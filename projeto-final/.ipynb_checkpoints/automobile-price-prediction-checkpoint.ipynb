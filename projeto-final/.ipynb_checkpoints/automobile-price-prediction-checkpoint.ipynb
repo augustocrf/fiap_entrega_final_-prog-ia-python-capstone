{
 "cells": [
  {
   "cell_type": "markdown",
   "metadata": {},
   "source": [
    "# MBA FIAP Inteligência Artificial & Machine Learning\n",
    "\n",
    "![Image of Dementia](img/ml.png)\n",
    "\n",
    "## Programando IA com Python\n",
    "## Projeto Final: Estimando Preços de Automóveis Utilizando Modelos de Regressão\n",
    "\n",
    "Este projeto final tem como objetivo explorar os conhecimentos adquiridos nas aulas práticas. Por meio uma trilha guiada para construir um classificador que permitirá predizer o valor de um automóvel baseado em algumas características que cada grupo deverá escolher.\n",
    "\n",
    "Este projeto poderá ser feita por grupos de até 4 pessoas.\n",
    "\n",
    "| Nome dos Integrantes                     | RM             | Turma   |\n",
    "| :--------------------------------------- | :------------- | :-----: |\n",
    "| Augusto Cesar Ribeiro Freire             | RM 330695      | `2IA`   |\n",
    "| Marcelo Muzilli                          | RM 331136      | `2IA`   |\n",
    "| Rafael da Silva Tomaz                    | RM 330267      | `2IA`   |\n",
    "| Renato Tavares da Silva                  | RM 330659      | `2IA`   |\n",
    "\n",
    "Por ser um projeto guiado, fique atento quando houver as marcações **Implementação** indica que é necessário realizar alguma implementação em Python no bloco a seguir onde há a inscrição ```##IMPLEMENTAR``` e **Resposta** indica que é esperado uma resposta objetiva relacionado a algum questionamento. \n",
    "\n",
    "**Cada grupo pode utilizar nas respostas objetivas quaisquer itens necessários que enriqueçam seu ponto vista, como gráficos, fotos e, até mesmo, trechos de código-fonte.**\n",
    "\n",
    "Pode-se utilizar quantos blocos forem necessários para realizar determinadas implementações ou utilizá-las para justificar as respostas. Não é obrigatório utilizar somente o bloco indicado.\n",
    "\n",
    "Ao final não se esqueça de subir os arquivos do projeto nas contas do GitHub de cada membro, ou subir na do representante do grupo e os membros realizarem o fork do projeto.\n",
    "\n",
    "A avaliação terá mais ênfase nos seguintes tópicos de desenvolvimento do projeto:\n",
    " \n",
    "1. __Exploração de Dados__\n",
    "2. __Preparação de Dados__\n",
    "3. __Desenvolvimento do Modelo__\n",
    "4. __Treinamento e Teste do Modelo__\n",
    "5. __Validação e Otimização do Modelo__\n",
    "6. __Conclusões Finais__"
   ]
  },
  {
   "cell_type": "markdown",
   "metadata": {},
   "source": [
    "## Exploração de Dados"
   ]
  },
  {
   "cell_type": "markdown",
   "metadata": {},
   "source": [
    "Os dados que serão utilizados foram modificados para propocionar uma experiência que explore melhor as técnicas de processamento e preparação de dados aprendidas.\n",
    "\n",
    "Originalmente os dados foram extraídos do Kaggle deste [dataset](https://www.kaggle.com/nisargpatel/automobiles/data)."
   ]
  },
  {
   "cell_type": "markdown",
   "metadata": {},
   "source": [
    "**Implementação** \n",
    "\n",
    "Carregue o dataset \"automobile-mod.csv\" que se encontra na pasta \"data\" e faça uma inspeção nas 10 primeiras linhas para identificação básica dos atributos.\n",
    "\n",
    "**O dataset original \"automobile.csv\" se encontra na mesma pasta apenas como referência. Não deverá ser utilizado.**"
   ]
  },
  {
   "cell_type": "code",
   "execution_count": 4,
   "metadata": {
    "collapsed": true
   },
   "outputs": [],
   "source": [
    "import seaborn as sns\n",
    "import matplotlib.pyplot as plt\n",
    "import pandas as pd\n",
    "import numpy as np\n",
    "\n",
    "%matplotlib inline"
   ]
  },
  {
   "cell_type": "code",
   "execution_count": 5,
   "metadata": {},
   "outputs": [
    {
     "data": {
      "text/html": [
       "<div>\n",
       "<style>\n",
       "    .dataframe thead tr:only-child th {\n",
       "        text-align: right;\n",
       "    }\n",
       "\n",
       "    .dataframe thead th {\n",
       "        text-align: left;\n",
       "    }\n",
       "\n",
       "    .dataframe tbody tr th {\n",
       "        vertical-align: top;\n",
       "    }\n",
       "</style>\n",
       "<table border=\"1\" class=\"dataframe\">\n",
       "  <thead>\n",
       "    <tr style=\"text-align: right;\">\n",
       "      <th></th>\n",
       "      <th>make</th>\n",
       "      <th>fuel_type</th>\n",
       "      <th>aspiration</th>\n",
       "      <th>number_of_doors</th>\n",
       "      <th>body_style</th>\n",
       "      <th>drive_wheels</th>\n",
       "      <th>engine_location</th>\n",
       "      <th>wheel_base</th>\n",
       "      <th>length</th>\n",
       "      <th>width</th>\n",
       "      <th>...</th>\n",
       "      <th>engine_size</th>\n",
       "      <th>fuel_system</th>\n",
       "      <th>bore</th>\n",
       "      <th>stroke</th>\n",
       "      <th>compression_ratio</th>\n",
       "      <th>horsepower</th>\n",
       "      <th>peak_rpm</th>\n",
       "      <th>city_mpg</th>\n",
       "      <th>highway_mpg</th>\n",
       "      <th>price</th>\n",
       "    </tr>\n",
       "  </thead>\n",
       "  <tbody>\n",
       "    <tr>\n",
       "      <th>0</th>\n",
       "      <td>alfa-romero</td>\n",
       "      <td>gas</td>\n",
       "      <td>std</td>\n",
       "      <td>two</td>\n",
       "      <td>convertible</td>\n",
       "      <td>rwd</td>\n",
       "      <td>front</td>\n",
       "      <td>88.6</td>\n",
       "      <td>168.8</td>\n",
       "      <td>64.1</td>\n",
       "      <td>...</td>\n",
       "      <td>130</td>\n",
       "      <td>mpfi</td>\n",
       "      <td>3.47</td>\n",
       "      <td>2.68</td>\n",
       "      <td>9.0</td>\n",
       "      <td>111</td>\n",
       "      <td>5000.0</td>\n",
       "      <td>21.0</td>\n",
       "      <td>27.0</td>\n",
       "      <td>13495</td>\n",
       "    </tr>\n",
       "    <tr>\n",
       "      <th>1</th>\n",
       "      <td>alfa-romero</td>\n",
       "      <td>gas</td>\n",
       "      <td>std</td>\n",
       "      <td>two</td>\n",
       "      <td>convertible</td>\n",
       "      <td>rwd</td>\n",
       "      <td>front</td>\n",
       "      <td>88.6</td>\n",
       "      <td>168.8</td>\n",
       "      <td>64.1</td>\n",
       "      <td>...</td>\n",
       "      <td>130</td>\n",
       "      <td>mpfi</td>\n",
       "      <td>3.47</td>\n",
       "      <td>2.68</td>\n",
       "      <td>9.0</td>\n",
       "      <td>111</td>\n",
       "      <td>5000.0</td>\n",
       "      <td>21.0</td>\n",
       "      <td>27.0</td>\n",
       "      <td>16500</td>\n",
       "    </tr>\n",
       "    <tr>\n",
       "      <th>2</th>\n",
       "      <td>alfa-romero</td>\n",
       "      <td>gas</td>\n",
       "      <td>std</td>\n",
       "      <td>two</td>\n",
       "      <td>hatchback</td>\n",
       "      <td>rwd</td>\n",
       "      <td>front</td>\n",
       "      <td>94.5</td>\n",
       "      <td>171.2</td>\n",
       "      <td>65.5</td>\n",
       "      <td>...</td>\n",
       "      <td>152</td>\n",
       "      <td>mpfi</td>\n",
       "      <td>2.68</td>\n",
       "      <td>3.47</td>\n",
       "      <td>9.0</td>\n",
       "      <td>154</td>\n",
       "      <td>5000.0</td>\n",
       "      <td>19.0</td>\n",
       "      <td>26.0</td>\n",
       "      <td>16500</td>\n",
       "    </tr>\n",
       "    <tr>\n",
       "      <th>3</th>\n",
       "      <td>audi</td>\n",
       "      <td>gas</td>\n",
       "      <td>std</td>\n",
       "      <td>four</td>\n",
       "      <td>sedan</td>\n",
       "      <td>fwd</td>\n",
       "      <td>front</td>\n",
       "      <td>99.8</td>\n",
       "      <td>176.6</td>\n",
       "      <td>66.2</td>\n",
       "      <td>...</td>\n",
       "      <td>109</td>\n",
       "      <td>mpfi</td>\n",
       "      <td>3.19</td>\n",
       "      <td>3.40</td>\n",
       "      <td>10.0</td>\n",
       "      <td>102</td>\n",
       "      <td>5500.0</td>\n",
       "      <td>24.0</td>\n",
       "      <td>30.0</td>\n",
       "      <td>13950</td>\n",
       "    </tr>\n",
       "    <tr>\n",
       "      <th>4</th>\n",
       "      <td>audi</td>\n",
       "      <td>gas</td>\n",
       "      <td>std</td>\n",
       "      <td>four</td>\n",
       "      <td>sedan</td>\n",
       "      <td>4wd</td>\n",
       "      <td>front</td>\n",
       "      <td>99.4</td>\n",
       "      <td>176.6</td>\n",
       "      <td>66.4</td>\n",
       "      <td>...</td>\n",
       "      <td>136</td>\n",
       "      <td>mpfi</td>\n",
       "      <td>3.19</td>\n",
       "      <td>3.40</td>\n",
       "      <td>8.0</td>\n",
       "      <td>115</td>\n",
       "      <td>5500.0</td>\n",
       "      <td>18.0</td>\n",
       "      <td>22.0</td>\n",
       "      <td>17450</td>\n",
       "    </tr>\n",
       "    <tr>\n",
       "      <th>5</th>\n",
       "      <td>audi</td>\n",
       "      <td>gas</td>\n",
       "      <td>std</td>\n",
       "      <td>two</td>\n",
       "      <td>sedan</td>\n",
       "      <td>fwd</td>\n",
       "      <td>front</td>\n",
       "      <td>99.8</td>\n",
       "      <td>177.3</td>\n",
       "      <td>66.3</td>\n",
       "      <td>...</td>\n",
       "      <td>136</td>\n",
       "      <td>mpfi</td>\n",
       "      <td>3.19</td>\n",
       "      <td>3.40</td>\n",
       "      <td>8.5</td>\n",
       "      <td>110</td>\n",
       "      <td>5500.0</td>\n",
       "      <td>19.0</td>\n",
       "      <td>25.0</td>\n",
       "      <td>15250</td>\n",
       "    </tr>\n",
       "    <tr>\n",
       "      <th>6</th>\n",
       "      <td>audi</td>\n",
       "      <td>gas</td>\n",
       "      <td>std</td>\n",
       "      <td>four</td>\n",
       "      <td>sedan</td>\n",
       "      <td>fwd</td>\n",
       "      <td>front</td>\n",
       "      <td>105.8</td>\n",
       "      <td>192.7</td>\n",
       "      <td>71.4</td>\n",
       "      <td>...</td>\n",
       "      <td>136</td>\n",
       "      <td>mpfi</td>\n",
       "      <td>3.19</td>\n",
       "      <td>3.40</td>\n",
       "      <td>8.5</td>\n",
       "      <td>110</td>\n",
       "      <td>5500.0</td>\n",
       "      <td>19.0</td>\n",
       "      <td>25.0</td>\n",
       "      <td>17710</td>\n",
       "    </tr>\n",
       "    <tr>\n",
       "      <th>7</th>\n",
       "      <td>audi</td>\n",
       "      <td>gas</td>\n",
       "      <td>std</td>\n",
       "      <td>four</td>\n",
       "      <td>wagon</td>\n",
       "      <td>fwd</td>\n",
       "      <td>front</td>\n",
       "      <td>105.8</td>\n",
       "      <td>192.7</td>\n",
       "      <td>71.4</td>\n",
       "      <td>...</td>\n",
       "      <td>136</td>\n",
       "      <td>mpfi</td>\n",
       "      <td>3.19</td>\n",
       "      <td>3.40</td>\n",
       "      <td>8.5</td>\n",
       "      <td>110</td>\n",
       "      <td>5500.0</td>\n",
       "      <td>19.0</td>\n",
       "      <td>25.0</td>\n",
       "      <td>18920</td>\n",
       "    </tr>\n",
       "    <tr>\n",
       "      <th>8</th>\n",
       "      <td>audi</td>\n",
       "      <td>gas</td>\n",
       "      <td>turbo</td>\n",
       "      <td>four</td>\n",
       "      <td>sedan</td>\n",
       "      <td>fwd</td>\n",
       "      <td>front</td>\n",
       "      <td>105.8</td>\n",
       "      <td>192.7</td>\n",
       "      <td>71.4</td>\n",
       "      <td>...</td>\n",
       "      <td>131</td>\n",
       "      <td>mpfi</td>\n",
       "      <td>3.13</td>\n",
       "      <td>3.40</td>\n",
       "      <td>8.3</td>\n",
       "      <td>140</td>\n",
       "      <td>5500.0</td>\n",
       "      <td>17.0</td>\n",
       "      <td>20.0</td>\n",
       "      <td>23875</td>\n",
       "    </tr>\n",
       "    <tr>\n",
       "      <th>9</th>\n",
       "      <td>bmw</td>\n",
       "      <td>gas</td>\n",
       "      <td>std</td>\n",
       "      <td>two</td>\n",
       "      <td>sedan</td>\n",
       "      <td>rwd</td>\n",
       "      <td>front</td>\n",
       "      <td>101.2</td>\n",
       "      <td>176.8</td>\n",
       "      <td>64.8</td>\n",
       "      <td>...</td>\n",
       "      <td>108</td>\n",
       "      <td>mpfi</td>\n",
       "      <td>3.50</td>\n",
       "      <td>2.80</td>\n",
       "      <td>8.8</td>\n",
       "      <td>101</td>\n",
       "      <td>5800.0</td>\n",
       "      <td>23.0</td>\n",
       "      <td>29.0</td>\n",
       "      <td>16430</td>\n",
       "    </tr>\n",
       "  </tbody>\n",
       "</table>\n",
       "<p>10 rows × 24 columns</p>\n",
       "</div>"
      ],
      "text/plain": [
       "          make fuel_type aspiration number_of_doors   body_style drive_wheels  \\\n",
       "0  alfa-romero       gas        std             two  convertible          rwd   \n",
       "1  alfa-romero       gas        std             two  convertible          rwd   \n",
       "2  alfa-romero       gas        std             two    hatchback          rwd   \n",
       "3         audi       gas        std            four        sedan          fwd   \n",
       "4         audi       gas        std            four        sedan          4wd   \n",
       "5         audi       gas        std             two        sedan          fwd   \n",
       "6         audi       gas        std            four        sedan          fwd   \n",
       "7         audi       gas        std            four        wagon          fwd   \n",
       "8         audi       gas      turbo            four        sedan          fwd   \n",
       "9          bmw       gas        std             two        sedan          rwd   \n",
       "\n",
       "  engine_location  wheel_base  length  width  ...    engine_size  fuel_system  \\\n",
       "0           front        88.6   168.8   64.1  ...            130         mpfi   \n",
       "1           front        88.6   168.8   64.1  ...            130         mpfi   \n",
       "2           front        94.5   171.2   65.5  ...            152         mpfi   \n",
       "3           front        99.8   176.6   66.2  ...            109         mpfi   \n",
       "4           front        99.4   176.6   66.4  ...            136         mpfi   \n",
       "5           front        99.8   177.3   66.3  ...            136         mpfi   \n",
       "6           front       105.8   192.7   71.4  ...            136         mpfi   \n",
       "7           front       105.8   192.7   71.4  ...            136         mpfi   \n",
       "8           front       105.8   192.7   71.4  ...            131         mpfi   \n",
       "9           front       101.2   176.8   64.8  ...            108         mpfi   \n",
       "\n",
       "   bore stroke  compression_ratio horsepower  peak_rpm  city_mpg  highway_mpg  \\\n",
       "0  3.47   2.68                9.0        111    5000.0      21.0         27.0   \n",
       "1  3.47   2.68                9.0        111    5000.0      21.0         27.0   \n",
       "2  2.68   3.47                9.0        154    5000.0      19.0         26.0   \n",
       "3  3.19   3.40               10.0        102    5500.0      24.0         30.0   \n",
       "4  3.19   3.40                8.0        115    5500.0      18.0         22.0   \n",
       "5  3.19   3.40                8.5        110    5500.0      19.0         25.0   \n",
       "6  3.19   3.40                8.5        110    5500.0      19.0         25.0   \n",
       "7  3.19   3.40                8.5        110    5500.0      19.0         25.0   \n",
       "8  3.13   3.40                8.3        140    5500.0      17.0         20.0   \n",
       "9  3.50   2.80                8.8        101    5800.0      23.0         29.0   \n",
       "\n",
       "   price  \n",
       "0  13495  \n",
       "1  16500  \n",
       "2  16500  \n",
       "3  13950  \n",
       "4  17450  \n",
       "5  15250  \n",
       "6  17710  \n",
       "7  18920  \n",
       "8  23875  \n",
       "9  16430  \n",
       "\n",
       "[10 rows x 24 columns]"
      ]
     },
     "execution_count": 5,
     "metadata": {},
     "output_type": "execute_result"
    }
   ],
   "source": [
    "#IMPLEMENTAR\n",
    "\n",
    "# Importando o data set de\n",
    "df_automobile = pd.read_csv(\"data/automobile-mod.csv\", sep=';')\n",
    "\n",
    "df_automobile.head(10)"
   ]
  },
  {
   "cell_type": "markdown",
   "metadata": {},
   "source": [
    "Relação das coluna e seu significado:\n",
    "\n",
    "1. make: fabricante\n",
    "2. fuel_type: tipo de combustível\n",
    "3. aspiration: tipo de aspiração do motor, ex. turbo ou padrão (std)\n",
    "4. number_of_doors: número de porta do Carro, ex. 2 ou 4 *\n",
    "5. body_style: estilo do carro, ex. sedan ou hatchback\n",
    "6. drive_wheels: tração do carro, ex. rwd (tração traseira) ou frw (tração dianteira)\n",
    "7. engine_location: localização (Posição) do motor do carro, ex. rear (traseira) ou front (Frente) *\n",
    "8. wheel_base: entre-eixos, distância entre o eixo dianteiro e o eixo traseiro\n",
    "9. length: comprimento\n",
    "10. width: largura\n",
    "11. height: altura\n",
    "12. curb_wheight: peso\n",
    "13. engine_type: tipo do motor\n",
    "14. number_of_cylinders: cilindrada, quantidade de cilindros\n",
    "15. engine_size: tamanho do motor\n",
    "16. fuel_system: sistema de injeção\n",
    "17. bore: diâmetro do cilindro\n",
    "18. stroke: diâmetro do pistão\n",
    "19. compression_ratio: razão de compressão\n",
    "20. horsepower: cavalo de força ou HP\n",
    "21. peak_rpm: pico de RPM (rotações por minuto)\n",
    "22. city_mpg: consumo em mpg (milhas por galão) na cidade\n",
    "23. highway_mpg: consumo em mpg (milhas por galão) na estrada\n",
    "24. price: preço (**Variável Alvo**)"
   ]
  },
  {
   "cell_type": "markdown",
   "metadata": {},
   "source": [
    "### Correlacionamento dos atributos"
   ]
  },
  {
   "cell_type": "markdown",
   "metadata": {},
   "source": [
    "Vamos utilizar algumas suposições e validar se elas são verdadeiras, por exemplo, o preço do carro pode variar com seu consumo, tamanho ou força? Vamos explorar estas hipósteses ou outras que o grupo julgue relevante."
   ]
  },
  {
   "cell_type": "code",
   "execution_count": 6,
   "metadata": {},
   "outputs": [
    {
     "data": {
      "text/html": [
       "<div>\n",
       "<style>\n",
       "    .dataframe thead tr:only-child th {\n",
       "        text-align: right;\n",
       "    }\n",
       "\n",
       "    .dataframe thead th {\n",
       "        text-align: left;\n",
       "    }\n",
       "\n",
       "    .dataframe tbody tr th {\n",
       "        vertical-align: top;\n",
       "    }\n",
       "</style>\n",
       "<table border=\"1\" class=\"dataframe\">\n",
       "  <thead>\n",
       "    <tr style=\"text-align: right;\">\n",
       "      <th></th>\n",
       "      <th>wheel_base</th>\n",
       "      <th>length</th>\n",
       "      <th>width</th>\n",
       "      <th>height</th>\n",
       "      <th>curb_weight</th>\n",
       "      <th>engine_size</th>\n",
       "      <th>bore</th>\n",
       "      <th>stroke</th>\n",
       "      <th>compression_ratio</th>\n",
       "      <th>horsepower</th>\n",
       "      <th>peak_rpm</th>\n",
       "      <th>city_mpg</th>\n",
       "      <th>highway_mpg</th>\n",
       "      <th>price</th>\n",
       "    </tr>\n",
       "  </thead>\n",
       "  <tbody>\n",
       "    <tr>\n",
       "      <th>wheel_base</th>\n",
       "      <td>1.000000</td>\n",
       "      <td>0.876024</td>\n",
       "      <td>0.814507</td>\n",
       "      <td>0.590742</td>\n",
       "      <td>0.782097</td>\n",
       "      <td>0.572027</td>\n",
       "      <td>0.495210</td>\n",
       "      <td>0.148239</td>\n",
       "      <td>0.250313</td>\n",
       "      <td>0.372607</td>\n",
       "      <td>-0.202727</td>\n",
       "      <td>-0.454390</td>\n",
       "      <td>-0.566392</td>\n",
       "      <td>0.584642</td>\n",
       "    </tr>\n",
       "    <tr>\n",
       "      <th>length</th>\n",
       "      <td>0.876024</td>\n",
       "      <td>1.000000</td>\n",
       "      <td>0.857170</td>\n",
       "      <td>0.492063</td>\n",
       "      <td>0.880665</td>\n",
       "      <td>0.685025</td>\n",
       "      <td>0.610324</td>\n",
       "      <td>0.116745</td>\n",
       "      <td>0.159733</td>\n",
       "      <td>0.577923</td>\n",
       "      <td>-0.056354</td>\n",
       "      <td>-0.633185</td>\n",
       "      <td>-0.709308</td>\n",
       "      <td>0.690628</td>\n",
       "    </tr>\n",
       "    <tr>\n",
       "      <th>width</th>\n",
       "      <td>0.814507</td>\n",
       "      <td>0.857170</td>\n",
       "      <td>1.000000</td>\n",
       "      <td>0.306002</td>\n",
       "      <td>0.866201</td>\n",
       "      <td>0.729436</td>\n",
       "      <td>0.545028</td>\n",
       "      <td>0.186352</td>\n",
       "      <td>0.189867</td>\n",
       "      <td>0.613488</td>\n",
       "      <td>-0.092631</td>\n",
       "      <td>-0.620316</td>\n",
       "      <td>-0.697742</td>\n",
       "      <td>0.751265</td>\n",
       "    </tr>\n",
       "    <tr>\n",
       "      <th>height</th>\n",
       "      <td>0.590742</td>\n",
       "      <td>0.492063</td>\n",
       "      <td>0.306002</td>\n",
       "      <td>1.000000</td>\n",
       "      <td>0.307581</td>\n",
       "      <td>0.074694</td>\n",
       "      <td>0.186701</td>\n",
       "      <td>-0.086508</td>\n",
       "      <td>0.259737</td>\n",
       "      <td>-0.085544</td>\n",
       "      <td>-0.275686</td>\n",
       "      <td>-0.069029</td>\n",
       "      <td>-0.117146</td>\n",
       "      <td>0.135486</td>\n",
       "    </tr>\n",
       "    <tr>\n",
       "      <th>curb_weight</th>\n",
       "      <td>0.782097</td>\n",
       "      <td>0.880665</td>\n",
       "      <td>0.866201</td>\n",
       "      <td>0.307581</td>\n",
       "      <td>1.000000</td>\n",
       "      <td>0.849072</td>\n",
       "      <td>0.644871</td>\n",
       "      <td>0.162179</td>\n",
       "      <td>0.156433</td>\n",
       "      <td>0.757762</td>\n",
       "      <td>-0.098857</td>\n",
       "      <td>-0.714663</td>\n",
       "      <td>-0.800276</td>\n",
       "      <td>0.834415</td>\n",
       "    </tr>\n",
       "    <tr>\n",
       "      <th>engine_size</th>\n",
       "      <td>0.572027</td>\n",
       "      <td>0.685025</td>\n",
       "      <td>0.729436</td>\n",
       "      <td>0.074694</td>\n",
       "      <td>0.849072</td>\n",
       "      <td>1.000000</td>\n",
       "      <td>0.577265</td>\n",
       "      <td>0.184605</td>\n",
       "      <td>0.028889</td>\n",
       "      <td>0.821685</td>\n",
       "      <td>-0.104959</td>\n",
       "      <td>-0.619403</td>\n",
       "      <td>-0.671867</td>\n",
       "      <td>0.872335</td>\n",
       "    </tr>\n",
       "    <tr>\n",
       "      <th>bore</th>\n",
       "      <td>0.495210</td>\n",
       "      <td>0.610324</td>\n",
       "      <td>0.545028</td>\n",
       "      <td>0.186701</td>\n",
       "      <td>0.644871</td>\n",
       "      <td>0.577265</td>\n",
       "      <td>1.000000</td>\n",
       "      <td>-0.057887</td>\n",
       "      <td>0.001971</td>\n",
       "      <td>0.563921</td>\n",
       "      <td>-0.046081</td>\n",
       "      <td>-0.542294</td>\n",
       "      <td>-0.576674</td>\n",
       "      <td>0.543052</td>\n",
       "    </tr>\n",
       "    <tr>\n",
       "      <th>stroke</th>\n",
       "      <td>0.148239</td>\n",
       "      <td>0.116745</td>\n",
       "      <td>0.186352</td>\n",
       "      <td>-0.086508</td>\n",
       "      <td>0.162179</td>\n",
       "      <td>0.184605</td>\n",
       "      <td>-0.057887</td>\n",
       "      <td>1.000000</td>\n",
       "      <td>0.183855</td>\n",
       "      <td>0.092493</td>\n",
       "      <td>-0.065078</td>\n",
       "      <td>-0.079547</td>\n",
       "      <td>-0.071479</td>\n",
       "      <td>0.081434</td>\n",
       "    </tr>\n",
       "    <tr>\n",
       "      <th>compression_ratio</th>\n",
       "      <td>0.250313</td>\n",
       "      <td>0.159733</td>\n",
       "      <td>0.189867</td>\n",
       "      <td>0.259737</td>\n",
       "      <td>0.156433</td>\n",
       "      <td>0.028889</td>\n",
       "      <td>0.001971</td>\n",
       "      <td>0.183855</td>\n",
       "      <td>1.000000</td>\n",
       "      <td>-0.212984</td>\n",
       "      <td>-0.284202</td>\n",
       "      <td>0.270039</td>\n",
       "      <td>0.207436</td>\n",
       "      <td>0.071107</td>\n",
       "    </tr>\n",
       "    <tr>\n",
       "      <th>horsepower</th>\n",
       "      <td>0.372607</td>\n",
       "      <td>0.577923</td>\n",
       "      <td>0.613488</td>\n",
       "      <td>-0.085544</td>\n",
       "      <td>0.757762</td>\n",
       "      <td>0.821685</td>\n",
       "      <td>0.563921</td>\n",
       "      <td>0.092493</td>\n",
       "      <td>-0.212984</td>\n",
       "      <td>1.000000</td>\n",
       "      <td>0.132510</td>\n",
       "      <td>-0.763573</td>\n",
       "      <td>-0.776634</td>\n",
       "      <td>0.810795</td>\n",
       "    </tr>\n",
       "    <tr>\n",
       "      <th>peak_rpm</th>\n",
       "      <td>-0.202727</td>\n",
       "      <td>-0.056354</td>\n",
       "      <td>-0.092631</td>\n",
       "      <td>-0.275686</td>\n",
       "      <td>-0.098857</td>\n",
       "      <td>-0.104959</td>\n",
       "      <td>-0.046081</td>\n",
       "      <td>-0.065078</td>\n",
       "      <td>-0.284202</td>\n",
       "      <td>0.132510</td>\n",
       "      <td>1.000000</td>\n",
       "      <td>-0.127533</td>\n",
       "      <td>-0.050670</td>\n",
       "      <td>-0.006104</td>\n",
       "    </tr>\n",
       "    <tr>\n",
       "      <th>city_mpg</th>\n",
       "      <td>-0.454390</td>\n",
       "      <td>-0.633185</td>\n",
       "      <td>-0.620316</td>\n",
       "      <td>-0.069029</td>\n",
       "      <td>-0.714663</td>\n",
       "      <td>-0.619403</td>\n",
       "      <td>-0.542294</td>\n",
       "      <td>-0.079547</td>\n",
       "      <td>0.270039</td>\n",
       "      <td>-0.763573</td>\n",
       "      <td>-0.127533</td>\n",
       "      <td>1.000000</td>\n",
       "      <td>0.875933</td>\n",
       "      <td>-0.657661</td>\n",
       "    </tr>\n",
       "    <tr>\n",
       "      <th>highway_mpg</th>\n",
       "      <td>-0.566392</td>\n",
       "      <td>-0.709308</td>\n",
       "      <td>-0.697742</td>\n",
       "      <td>-0.117146</td>\n",
       "      <td>-0.800276</td>\n",
       "      <td>-0.671867</td>\n",
       "      <td>-0.576674</td>\n",
       "      <td>-0.071479</td>\n",
       "      <td>0.207436</td>\n",
       "      <td>-0.776634</td>\n",
       "      <td>-0.050670</td>\n",
       "      <td>0.875933</td>\n",
       "      <td>1.000000</td>\n",
       "      <td>-0.712812</td>\n",
       "    </tr>\n",
       "    <tr>\n",
       "      <th>price</th>\n",
       "      <td>0.584642</td>\n",
       "      <td>0.690628</td>\n",
       "      <td>0.751265</td>\n",
       "      <td>0.135486</td>\n",
       "      <td>0.834415</td>\n",
       "      <td>0.872335</td>\n",
       "      <td>0.543052</td>\n",
       "      <td>0.081434</td>\n",
       "      <td>0.071107</td>\n",
       "      <td>0.810795</td>\n",
       "      <td>-0.006104</td>\n",
       "      <td>-0.657661</td>\n",
       "      <td>-0.712812</td>\n",
       "      <td>1.000000</td>\n",
       "    </tr>\n",
       "  </tbody>\n",
       "</table>\n",
       "</div>"
      ],
      "text/plain": [
       "                   wheel_base    length     width    height  curb_weight  \\\n",
       "wheel_base           1.000000  0.876024  0.814507  0.590742     0.782097   \n",
       "length               0.876024  1.000000  0.857170  0.492063     0.880665   \n",
       "width                0.814507  0.857170  1.000000  0.306002     0.866201   \n",
       "height               0.590742  0.492063  0.306002  1.000000     0.307581   \n",
       "curb_weight          0.782097  0.880665  0.866201  0.307581     1.000000   \n",
       "engine_size          0.572027  0.685025  0.729436  0.074694     0.849072   \n",
       "bore                 0.495210  0.610324  0.545028  0.186701     0.644871   \n",
       "stroke               0.148239  0.116745  0.186352 -0.086508     0.162179   \n",
       "compression_ratio    0.250313  0.159733  0.189867  0.259737     0.156433   \n",
       "horsepower           0.372607  0.577923  0.613488 -0.085544     0.757762   \n",
       "peak_rpm            -0.202727 -0.056354 -0.092631 -0.275686    -0.098857   \n",
       "city_mpg            -0.454390 -0.633185 -0.620316 -0.069029    -0.714663   \n",
       "highway_mpg         -0.566392 -0.709308 -0.697742 -0.117146    -0.800276   \n",
       "price                0.584642  0.690628  0.751265  0.135486     0.834415   \n",
       "\n",
       "                   engine_size      bore    stroke  compression_ratio  \\\n",
       "wheel_base            0.572027  0.495210  0.148239           0.250313   \n",
       "length                0.685025  0.610324  0.116745           0.159733   \n",
       "width                 0.729436  0.545028  0.186352           0.189867   \n",
       "height                0.074694  0.186701 -0.086508           0.259737   \n",
       "curb_weight           0.849072  0.644871  0.162179           0.156433   \n",
       "engine_size           1.000000  0.577265  0.184605           0.028889   \n",
       "bore                  0.577265  1.000000 -0.057887           0.001971   \n",
       "stroke                0.184605 -0.057887  1.000000           0.183855   \n",
       "compression_ratio     0.028889  0.001971  0.183855           1.000000   \n",
       "horsepower            0.821685  0.563921  0.092493          -0.212984   \n",
       "peak_rpm             -0.104959 -0.046081 -0.065078          -0.284202   \n",
       "city_mpg             -0.619403 -0.542294 -0.079547           0.270039   \n",
       "highway_mpg          -0.671867 -0.576674 -0.071479           0.207436   \n",
       "price                 0.872335  0.543052  0.081434           0.071107   \n",
       "\n",
       "                   horsepower  peak_rpm  city_mpg  highway_mpg     price  \n",
       "wheel_base           0.372607 -0.202727 -0.454390    -0.566392  0.584642  \n",
       "length               0.577923 -0.056354 -0.633185    -0.709308  0.690628  \n",
       "width                0.613488 -0.092631 -0.620316    -0.697742  0.751265  \n",
       "height              -0.085544 -0.275686 -0.069029    -0.117146  0.135486  \n",
       "curb_weight          0.757762 -0.098857 -0.714663    -0.800276  0.834415  \n",
       "engine_size          0.821685 -0.104959 -0.619403    -0.671867  0.872335  \n",
       "bore                 0.563921 -0.046081 -0.542294    -0.576674  0.543052  \n",
       "stroke               0.092493 -0.065078 -0.079547    -0.071479  0.081434  \n",
       "compression_ratio   -0.212984 -0.284202  0.270039     0.207436  0.071107  \n",
       "horsepower           1.000000  0.132510 -0.763573    -0.776634  0.810795  \n",
       "peak_rpm             0.132510  1.000000 -0.127533    -0.050670 -0.006104  \n",
       "city_mpg            -0.763573 -0.127533  1.000000     0.875933 -0.657661  \n",
       "highway_mpg         -0.776634 -0.050670  0.875933     1.000000 -0.712812  \n",
       "price                0.810795 -0.006104 -0.657661    -0.712812  1.000000  "
      ]
     },
     "execution_count": 6,
     "metadata": {},
     "output_type": "execute_result"
    }
   ],
   "source": [
    "#IMPLEMENTAR\n",
    "\n",
    "df_automobile.corr()"
   ]
  },
  {
   "cell_type": "code",
   "execution_count": 7,
   "metadata": {},
   "outputs": [
    {
     "data": {
      "text/plain": [
       "<matplotlib.axes._subplots.AxesSubplot at 0x1b3bb611748>"
      ]
     },
     "execution_count": 7,
     "metadata": {},
     "output_type": "execute_result"
    },
    {
     "data": {
      "image/png": "[encoded data removed]",
      "text/plain": [
       "<matplotlib.figure.Figure at 0x1b3bb6116a0>"
      ]
     },
     "metadata": {},
     "output_type": "display_data"
    }
   ],
   "source": [
    "# Mapa de correlação \n",
    " \n",
    "sns.heatmap(df_automobile.corr())"
   ]
  },
  {
   "cell_type": "markdown",
   "metadata": {},
   "source": [
    "**Pergunta:** Cite um exemplo de pelo menos os 3 cenários propostos que corroboram a leitura dos dados apresentados, justique sua resposta."
   ]
  },
  {
   "cell_type": "markdown",
   "metadata": {},
   "source": [
    "**Resposta:**"
   ]
  },
  {
   "cell_type": "markdown",
   "metadata": {},
   "source": [
    "## Preparação dos Dados"
   ]
  },
  {
   "cell_type": "markdown",
   "metadata": {},
   "source": [
    "### Identificação de Outliers Visualmente"
   ]
  },
  {
   "cell_type": "markdown",
   "metadata": {},
   "source": [
    "Utilize visualizações gráficas para encontrar outliers em todos os atributos deste dataset.\n",
    "Ainda não vamos remover ou atualizar os valores, por enquanto é uma análise exploratória.\n",
    "\n",
    "Lembre-se que cada atributo possui um valor e dimensão diferente, portanto comparações devem estar em uma mesma base, por exemplo, __price__ não pode ser comparado com __width__ pois os eixos __y__ estarão sem proporção."
   ]
  },
  {
   "cell_type": "code",
   "execution_count": 8,
   "metadata": {},
   "outputs": [
    {
     "data": {
      "text/plain": [
       "<matplotlib.axes._subplots.AxesSubplot at 0x1b3bb69b438>"
      ]
     },
     "execution_count": 8,
     "metadata": {},
     "output_type": "execute_result"
    },
    {
     "data": {
      "image/png": "[encoded data removed]",
      "text/plain": [
       "<matplotlib.figure.Figure at 0x1b3bb6a2400>"
      ]
     },
     "metadata": {},
     "output_type": "display_data"
    }
   ],
   "source": [
    "#IMPLEMENTAÇÃO\n",
    "\n",
    "sns.boxplot(data=df_automobile)\n",
    "#sns.boxplot(data=df_automobile[\"horsepower\"])"
   ]
  },
  {
   "cell_type": "code",
   "execution_count": 10,
   "metadata": {
    "collapsed": true
   },
   "outputs": [],
   "source": [
    "#Função para normalizar os valores deixando na mesma faixa e podendo identificar com mais facilidade os outliers\n",
    "def df_norm_valores(df, colunas):\n",
    "    df_norm = df.copy()\n",
    "\n",
    "    for coluna in colunas:\n",
    "        df_norm[coluna] = df[coluna].div(df_norm[coluna].sum(), axis=0)\n",
    "            \n",
    "    return df_norm"
   ]
  },
  {
   "cell_type": "code",
   "execution_count": 13,
   "metadata": {},
   "outputs": [
    {
     "data": {
      "text/html": [
       "<div>\n",
       "<style>\n",
       "    .dataframe thead tr:only-child th {\n",
       "        text-align: right;\n",
       "    }\n",
       "\n",
       "    .dataframe thead th {\n",
       "        text-align: left;\n",
       "    }\n",
       "\n",
       "    .dataframe tbody tr th {\n",
       "        vertical-align: top;\n",
       "    }\n",
       "</style>\n",
       "<table border=\"1\" class=\"dataframe\">\n",
       "  <thead>\n",
       "    <tr style=\"text-align: right;\">\n",
       "      <th></th>\n",
       "      <th>make</th>\n",
       "      <th>fuel_type</th>\n",
       "      <th>aspiration</th>\n",
       "      <th>number_of_doors</th>\n",
       "      <th>body_style</th>\n",
       "      <th>drive_wheels</th>\n",
       "      <th>engine_location</th>\n",
       "      <th>wheel_base</th>\n",
       "      <th>length</th>\n",
       "      <th>width</th>\n",
       "      <th>...</th>\n",
       "      <th>engine_size</th>\n",
       "      <th>fuel_system</th>\n",
       "      <th>bore</th>\n",
       "      <th>stroke</th>\n",
       "      <th>compression_ratio</th>\n",
       "      <th>horsepower</th>\n",
       "      <th>peak_rpm</th>\n",
       "      <th>city_mpg</th>\n",
       "      <th>highway_mpg</th>\n",
       "      <th>price</th>\n",
       "    </tr>\n",
       "  </thead>\n",
       "  <tbody>\n",
       "    <tr>\n",
       "      <th>0</th>\n",
       "      <td>alfa-romero</td>\n",
       "      <td>gas</td>\n",
       "      <td>std</td>\n",
       "      <td>two</td>\n",
       "      <td>convertible</td>\n",
       "      <td>rwd</td>\n",
       "      <td>front</td>\n",
       "      <td>0.004462</td>\n",
       "      <td>0.004821</td>\n",
       "      <td>0.004840</td>\n",
       "      <td>...</td>\n",
       "      <td>0.005098</td>\n",
       "      <td>mpfi</td>\n",
       "      <td>0.005185</td>\n",
       "      <td>0.004088</td>\n",
       "      <td>0.004405</td>\n",
       "      <td>0.005348</td>\n",
       "      <td>0.004963</td>\n",
       "      <td>0.004213</td>\n",
       "      <td>0.004420</td>\n",
       "      <td>0.005084</td>\n",
       "    </tr>\n",
       "    <tr>\n",
       "      <th>1</th>\n",
       "      <td>alfa-romero</td>\n",
       "      <td>gas</td>\n",
       "      <td>std</td>\n",
       "      <td>two</td>\n",
       "      <td>convertible</td>\n",
       "      <td>rwd</td>\n",
       "      <td>front</td>\n",
       "      <td>0.004462</td>\n",
       "      <td>0.004821</td>\n",
       "      <td>0.004840</td>\n",
       "      <td>...</td>\n",
       "      <td>0.005098</td>\n",
       "      <td>mpfi</td>\n",
       "      <td>0.005185</td>\n",
       "      <td>0.004088</td>\n",
       "      <td>0.004405</td>\n",
       "      <td>0.005348</td>\n",
       "      <td>0.004963</td>\n",
       "      <td>0.004213</td>\n",
       "      <td>0.004420</td>\n",
       "      <td>0.006216</td>\n",
       "    </tr>\n",
       "    <tr>\n",
       "      <th>2</th>\n",
       "      <td>alfa-romero</td>\n",
       "      <td>gas</td>\n",
       "      <td>std</td>\n",
       "      <td>two</td>\n",
       "      <td>hatchback</td>\n",
       "      <td>rwd</td>\n",
       "      <td>front</td>\n",
       "      <td>0.004759</td>\n",
       "      <td>0.004889</td>\n",
       "      <td>0.004946</td>\n",
       "      <td>...</td>\n",
       "      <td>0.005960</td>\n",
       "      <td>mpfi</td>\n",
       "      <td>0.004004</td>\n",
       "      <td>0.005293</td>\n",
       "      <td>0.004405</td>\n",
       "      <td>0.007420</td>\n",
       "      <td>0.004963</td>\n",
       "      <td>0.003811</td>\n",
       "      <td>0.004256</td>\n",
       "      <td>0.006216</td>\n",
       "    </tr>\n",
       "    <tr>\n",
       "      <th>3</th>\n",
       "      <td>audi</td>\n",
       "      <td>gas</td>\n",
       "      <td>std</td>\n",
       "      <td>four</td>\n",
       "      <td>sedan</td>\n",
       "      <td>fwd</td>\n",
       "      <td>front</td>\n",
       "      <td>0.005026</td>\n",
       "      <td>0.005044</td>\n",
       "      <td>0.004999</td>\n",
       "      <td>...</td>\n",
       "      <td>0.004274</td>\n",
       "      <td>mpfi</td>\n",
       "      <td>0.004766</td>\n",
       "      <td>0.005186</td>\n",
       "      <td>0.004895</td>\n",
       "      <td>0.004914</td>\n",
       "      <td>0.005459</td>\n",
       "      <td>0.004814</td>\n",
       "      <td>0.004911</td>\n",
       "      <td>0.005255</td>\n",
       "    </tr>\n",
       "    <tr>\n",
       "      <th>4</th>\n",
       "      <td>audi</td>\n",
       "      <td>gas</td>\n",
       "      <td>std</td>\n",
       "      <td>four</td>\n",
       "      <td>sedan</td>\n",
       "      <td>4wd</td>\n",
       "      <td>front</td>\n",
       "      <td>0.005005</td>\n",
       "      <td>0.005044</td>\n",
       "      <td>0.005014</td>\n",
       "      <td>...</td>\n",
       "      <td>0.005333</td>\n",
       "      <td>mpfi</td>\n",
       "      <td>0.004766</td>\n",
       "      <td>0.005186</td>\n",
       "      <td>0.003916</td>\n",
       "      <td>0.005541</td>\n",
       "      <td>0.005459</td>\n",
       "      <td>0.003611</td>\n",
       "      <td>0.003601</td>\n",
       "      <td>0.006573</td>\n",
       "    </tr>\n",
       "    <tr>\n",
       "      <th>5</th>\n",
       "      <td>audi</td>\n",
       "      <td>gas</td>\n",
       "      <td>std</td>\n",
       "      <td>two</td>\n",
       "      <td>sedan</td>\n",
       "      <td>fwd</td>\n",
       "      <td>front</td>\n",
       "      <td>0.005026</td>\n",
       "      <td>0.005064</td>\n",
       "      <td>0.005006</td>\n",
       "      <td>...</td>\n",
       "      <td>0.005333</td>\n",
       "      <td>mpfi</td>\n",
       "      <td>0.004766</td>\n",
       "      <td>0.005186</td>\n",
       "      <td>0.004161</td>\n",
       "      <td>0.005300</td>\n",
       "      <td>0.005459</td>\n",
       "      <td>0.003811</td>\n",
       "      <td>0.004092</td>\n",
       "      <td>0.005745</td>\n",
       "    </tr>\n",
       "    <tr>\n",
       "      <th>6</th>\n",
       "      <td>audi</td>\n",
       "      <td>gas</td>\n",
       "      <td>std</td>\n",
       "      <td>four</td>\n",
       "      <td>sedan</td>\n",
       "      <td>fwd</td>\n",
       "      <td>front</td>\n",
       "      <td>0.005328</td>\n",
       "      <td>0.005503</td>\n",
       "      <td>0.005391</td>\n",
       "      <td>...</td>\n",
       "      <td>0.005333</td>\n",
       "      <td>mpfi</td>\n",
       "      <td>0.004766</td>\n",
       "      <td>0.005186</td>\n",
       "      <td>0.004161</td>\n",
       "      <td>0.005300</td>\n",
       "      <td>0.005459</td>\n",
       "      <td>0.003811</td>\n",
       "      <td>0.004092</td>\n",
       "      <td>0.006671</td>\n",
       "    </tr>\n",
       "    <tr>\n",
       "      <th>7</th>\n",
       "      <td>audi</td>\n",
       "      <td>gas</td>\n",
       "      <td>std</td>\n",
       "      <td>four</td>\n",
       "      <td>wagon</td>\n",
       "      <td>fwd</td>\n",
       "      <td>front</td>\n",
       "      <td>0.005328</td>\n",
       "      <td>0.005503</td>\n",
       "      <td>0.005391</td>\n",
       "      <td>...</td>\n",
       "      <td>0.005333</td>\n",
       "      <td>mpfi</td>\n",
       "      <td>0.004766</td>\n",
       "      <td>0.005186</td>\n",
       "      <td>0.004161</td>\n",
       "      <td>0.005300</td>\n",
       "      <td>0.005459</td>\n",
       "      <td>0.003811</td>\n",
       "      <td>0.004092</td>\n",
       "      <td>0.007127</td>\n",
       "    </tr>\n",
       "    <tr>\n",
       "      <th>8</th>\n",
       "      <td>audi</td>\n",
       "      <td>gas</td>\n",
       "      <td>turbo</td>\n",
       "      <td>four</td>\n",
       "      <td>sedan</td>\n",
       "      <td>fwd</td>\n",
       "      <td>front</td>\n",
       "      <td>0.005328</td>\n",
       "      <td>0.005503</td>\n",
       "      <td>0.005391</td>\n",
       "      <td>...</td>\n",
       "      <td>0.005137</td>\n",
       "      <td>mpfi</td>\n",
       "      <td>0.004677</td>\n",
       "      <td>0.005186</td>\n",
       "      <td>0.004063</td>\n",
       "      <td>0.006745</td>\n",
       "      <td>0.005459</td>\n",
       "      <td>0.003410</td>\n",
       "      <td>0.003274</td>\n",
       "      <td>0.008994</td>\n",
       "    </tr>\n",
       "    <tr>\n",
       "      <th>9</th>\n",
       "      <td>bmw</td>\n",
       "      <td>gas</td>\n",
       "      <td>std</td>\n",
       "      <td>two</td>\n",
       "      <td>sedan</td>\n",
       "      <td>rwd</td>\n",
       "      <td>front</td>\n",
       "      <td>0.005096</td>\n",
       "      <td>0.005049</td>\n",
       "      <td>0.004893</td>\n",
       "      <td>...</td>\n",
       "      <td>0.004235</td>\n",
       "      <td>mpfi</td>\n",
       "      <td>0.005230</td>\n",
       "      <td>0.004271</td>\n",
       "      <td>0.004307</td>\n",
       "      <td>0.004866</td>\n",
       "      <td>0.005757</td>\n",
       "      <td>0.004614</td>\n",
       "      <td>0.004747</td>\n",
       "      <td>0.006189</td>\n",
       "    </tr>\n",
       "  </tbody>\n",
       "</table>\n",
       "<p>10 rows × 24 columns</p>\n",
       "</div>"
      ],
      "text/plain": [
       "          make fuel_type aspiration number_of_doors   body_style drive_wheels  \\\n",
       "0  alfa-romero       gas        std             two  convertible          rwd   \n",
       "1  alfa-romero       gas        std             two  convertible          rwd   \n",
       "2  alfa-romero       gas        std             two    hatchback          rwd   \n",
       "3         audi       gas        std            four        sedan          fwd   \n",
       "4         audi       gas        std            four        sedan          4wd   \n",
       "5         audi       gas        std             two        sedan          fwd   \n",
       "6         audi       gas        std            four        sedan          fwd   \n",
       "7         audi       gas        std            four        wagon          fwd   \n",
       "8         audi       gas      turbo            four        sedan          fwd   \n",
       "9          bmw       gas        std             two        sedan          rwd   \n",
       "\n",
       "  engine_location  wheel_base    length     width    ...     engine_size  \\\n",
       "0           front    0.004462  0.004821  0.004840    ...        0.005098   \n",
       "1           front    0.004462  0.004821  0.004840    ...        0.005098   \n",
       "2           front    0.004759  0.004889  0.004946    ...        0.005960   \n",
       "3           front    0.005026  0.005044  0.004999    ...        0.004274   \n",
       "4           front    0.005005  0.005044  0.005014    ...        0.005333   \n",
       "5           front    0.005026  0.005064  0.005006    ...        0.005333   \n",
       "6           front    0.005328  0.005503  0.005391    ...        0.005333   \n",
       "7           front    0.005328  0.005503  0.005391    ...        0.005333   \n",
       "8           front    0.005328  0.005503  0.005391    ...        0.005137   \n",
       "9           front    0.005096  0.005049  0.004893    ...        0.004235   \n",
       "\n",
       "   fuel_system      bore    stroke  compression_ratio horsepower  peak_rpm  \\\n",
       "0         mpfi  0.005185  0.004088           0.004405   0.005348  0.004963   \n",
       "1         mpfi  0.005185  0.004088           0.004405   0.005348  0.004963   \n",
       "2         mpfi  0.004004  0.005293           0.004405   0.007420  0.004963   \n",
       "3         mpfi  0.004766  0.005186           0.004895   0.004914  0.005459   \n",
       "4         mpfi  0.004766  0.005186           0.003916   0.005541  0.005459   \n",
       "5         mpfi  0.004766  0.005186           0.004161   0.005300  0.005459   \n",
       "6         mpfi  0.004766  0.005186           0.004161   0.005300  0.005459   \n",
       "7         mpfi  0.004766  0.005186           0.004161   0.005300  0.005459   \n",
       "8         mpfi  0.004677  0.005186           0.004063   0.006745  0.005459   \n",
       "9         mpfi  0.005230  0.004271           0.004307   0.004866  0.005757   \n",
       "\n",
       "   city_mpg  highway_mpg     price  \n",
       "0  0.004213     0.004420  0.005084  \n",
       "1  0.004213     0.004420  0.006216  \n",
       "2  0.003811     0.004256  0.006216  \n",
       "3  0.004814     0.004911  0.005255  \n",
       "4  0.003611     0.003601  0.006573  \n",
       "5  0.003811     0.004092  0.005745  \n",
       "6  0.003811     0.004092  0.006671  \n",
       "7  0.003811     0.004092  0.007127  \n",
       "8  0.003410     0.003274  0.008994  \n",
       "9  0.004614     0.004747  0.006189  \n",
       "\n",
       "[10 rows x 24 columns]"
      ]
     },
     "execution_count": 13,
     "metadata": {},
     "output_type": "execute_result"
    }
   ],
   "source": [
    "colunas = [\"wheel_base\", \"length\", \"width\", \"height\", \"curb_weight\", \"engine_size\", \"bore\", \n",
    "           \"stroke\", \"compression_ratio\", \"horsepower\", \"peak_rpm\", \"city_mpg\", \"highway_mpg\", \"price\"]\n",
    "\n",
    "df_automobile_norm = df_norm_valores(df_automobile, colunas)\n",
    "df_automobile_norm.head(10)"
   ]
  },
  {
   "cell_type": "code",
   "execution_count": 15,
   "metadata": {},
   "outputs": [
    {
     "data": {
      "text/plain": [
       "<matplotlib.axes._subplots.AxesSubplot at 0x1b3bccfeda0>"
      ]
     },
     "execution_count": 15,
     "metadata": {},
     "output_type": "execute_result"
    },
    {
     "data": {
      "image/png": "[encoded data removed]",
      "text/plain": [
       "<matplotlib.figure.Figure at 0x1b3bb6f5fd0>"
      ]
     },
     "metadata": {},
     "output_type": "display_data"
    }
   ],
   "source": [
    "sns.boxplot(data=df_automobile_norm)"
   ]
  },
  {
   "cell_type": "markdown",
   "metadata": {},
   "source": [
    "Antes de explorar melhor as correlações, vamos analisar se há dados discrepante no conjunto de dados. Analisar os dados sem esta análise antes pode nos levar a algum viés indesejado."
   ]
  },
  {
   "cell_type": "markdown",
   "metadata": {},
   "source": [
    "### Análise de valores inválidos"
   ]
  },
  {
   "cell_type": "markdown",
   "metadata": {},
   "source": [
    "Analise e busque por valores considerados nulos."
   ]
  },
  {
   "cell_type": "code",
   "execution_count": 16,
   "metadata": {
    "scrolled": true
   },
   "outputs": [
    {
     "data": {
      "text/plain": [
       "make                   False\n",
       "fuel_type              False\n",
       "aspiration             False\n",
       "number_of_doors        False\n",
       "body_style             False\n",
       "drive_wheels           False\n",
       "engine_location        False\n",
       "wheel_base             False\n",
       "length                 False\n",
       "width                  False\n",
       "height                 False\n",
       "curb_weight            False\n",
       "engine_type            False\n",
       "number_of_cylinders    False\n",
       "engine_size            False\n",
       "fuel_system            False\n",
       "bore                   False\n",
       "stroke                 False\n",
       "compression_ratio      False\n",
       "horsepower             False\n",
       "peak_rpm                True\n",
       "city_mpg                True\n",
       "highway_mpg             True\n",
       "price                  False\n",
       "dtype: bool"
      ]
     },
     "execution_count": 16,
     "metadata": {},
     "output_type": "execute_result"
    }
   ],
   "source": [
    "#IMPLEMENTAÇÃO\n",
    "df_automobile.isnull().any()"
   ]
  },
  {
   "cell_type": "markdown",
   "metadata": {},
   "source": [
    "Para os dados considerados nulos, realize a imputação de dados utilizando um valor apropriado (note que pode haver dados paramétricos e dados numéricos). Justique sua resposta."
   ]
  },
  {
   "cell_type": "code",
   "execution_count": 17,
   "metadata": {},
   "outputs": [
    {
     "data": {
      "text/html": [
       "<div>\n",
       "<style>\n",
       "    .dataframe thead tr:only-child th {\n",
       "        text-align: right;\n",
       "    }\n",
       "\n",
       "    .dataframe thead th {\n",
       "        text-align: left;\n",
       "    }\n",
       "\n",
       "    .dataframe tbody tr th {\n",
       "        vertical-align: top;\n",
       "    }\n",
       "</style>\n",
       "<table border=\"1\" class=\"dataframe\">\n",
       "  <thead>\n",
       "    <tr style=\"text-align: right;\">\n",
       "      <th></th>\n",
       "      <th>make</th>\n",
       "      <th>fuel_type</th>\n",
       "      <th>aspiration</th>\n",
       "      <th>number_of_doors</th>\n",
       "      <th>body_style</th>\n",
       "      <th>drive_wheels</th>\n",
       "      <th>engine_location</th>\n",
       "      <th>wheel_base</th>\n",
       "      <th>length</th>\n",
       "      <th>width</th>\n",
       "      <th>...</th>\n",
       "      <th>engine_size</th>\n",
       "      <th>fuel_system</th>\n",
       "      <th>bore</th>\n",
       "      <th>stroke</th>\n",
       "      <th>compression_ratio</th>\n",
       "      <th>horsepower</th>\n",
       "      <th>peak_rpm</th>\n",
       "      <th>city_mpg</th>\n",
       "      <th>highway_mpg</th>\n",
       "      <th>price</th>\n",
       "    </tr>\n",
       "  </thead>\n",
       "  <tbody>\n",
       "    <tr>\n",
       "      <th>136</th>\n",
       "      <td>subaru</td>\n",
       "      <td>gas</td>\n",
       "      <td>std</td>\n",
       "      <td>two</td>\n",
       "      <td>hatchback</td>\n",
       "      <td>4wd</td>\n",
       "      <td>front</td>\n",
       "      <td>93.3</td>\n",
       "      <td>157.3</td>\n",
       "      <td>63.8</td>\n",
       "      <td>...</td>\n",
       "      <td>108</td>\n",
       "      <td>2bbl</td>\n",
       "      <td>3.62</td>\n",
       "      <td>2.64</td>\n",
       "      <td>8.7</td>\n",
       "      <td>73</td>\n",
       "      <td>NaN</td>\n",
       "      <td>26.0</td>\n",
       "      <td>31.0</td>\n",
       "      <td>7603</td>\n",
       "    </tr>\n",
       "    <tr>\n",
       "      <th>184</th>\n",
       "      <td>volkswagen</td>\n",
       "      <td>gas</td>\n",
       "      <td>std</td>\n",
       "      <td>four</td>\n",
       "      <td>sedan</td>\n",
       "      <td>fwd</td>\n",
       "      <td>front</td>\n",
       "      <td>97.3</td>\n",
       "      <td>171.7</td>\n",
       "      <td>65.5</td>\n",
       "      <td>...</td>\n",
       "      <td>109</td>\n",
       "      <td>mpfi</td>\n",
       "      <td>3.19</td>\n",
       "      <td>3.40</td>\n",
       "      <td>10.0</td>\n",
       "      <td>100</td>\n",
       "      <td>NaN</td>\n",
       "      <td>26.0</td>\n",
       "      <td>32.0</td>\n",
       "      <td>9995</td>\n",
       "    </tr>\n",
       "  </tbody>\n",
       "</table>\n",
       "<p>2 rows × 24 columns</p>\n",
       "</div>"
      ],
      "text/plain": [
       "           make fuel_type aspiration number_of_doors body_style drive_wheels  \\\n",
       "136      subaru       gas        std             two  hatchback          4wd   \n",
       "184  volkswagen       gas        std            four      sedan          fwd   \n",
       "\n",
       "    engine_location  wheel_base  length  width  ...    engine_size  \\\n",
       "136           front        93.3   157.3   63.8  ...            108   \n",
       "184           front        97.3   171.7   65.5  ...            109   \n",
       "\n",
       "     fuel_system  bore stroke  compression_ratio horsepower  peak_rpm  \\\n",
       "136         2bbl  3.62   2.64                8.7         73       NaN   \n",
       "184         mpfi  3.19   3.40               10.0        100       NaN   \n",
       "\n",
       "     city_mpg  highway_mpg  price  \n",
       "136      26.0         31.0   7603  \n",
       "184      26.0         32.0   9995  \n",
       "\n",
       "[2 rows x 24 columns]"
      ]
     },
     "execution_count": 17,
     "metadata": {},
     "output_type": "execute_result"
    }
   ],
   "source": [
    "df_automobile[df_automobile[\"peak_rpm\"].isnull()]"
   ]
  },
  {
   "cell_type": "code",
   "execution_count": 18,
   "metadata": {},
   "outputs": [
    {
     "data": {
      "text/html": [
       "<div>\n",
       "<style>\n",
       "    .dataframe thead tr:only-child th {\n",
       "        text-align: right;\n",
       "    }\n",
       "\n",
       "    .dataframe thead th {\n",
       "        text-align: left;\n",
       "    }\n",
       "\n",
       "    .dataframe tbody tr th {\n",
       "        vertical-align: top;\n",
       "    }\n",
       "</style>\n",
       "<table border=\"1\" class=\"dataframe\">\n",
       "  <thead>\n",
       "    <tr style=\"text-align: right;\">\n",
       "      <th></th>\n",
       "      <th>make</th>\n",
       "      <th>fuel_type</th>\n",
       "      <th>aspiration</th>\n",
       "      <th>number_of_doors</th>\n",
       "      <th>body_style</th>\n",
       "      <th>drive_wheels</th>\n",
       "      <th>engine_location</th>\n",
       "      <th>wheel_base</th>\n",
       "      <th>length</th>\n",
       "      <th>width</th>\n",
       "      <th>...</th>\n",
       "      <th>engine_size</th>\n",
       "      <th>fuel_system</th>\n",
       "      <th>bore</th>\n",
       "      <th>stroke</th>\n",
       "      <th>compression_ratio</th>\n",
       "      <th>horsepower</th>\n",
       "      <th>peak_rpm</th>\n",
       "      <th>city_mpg</th>\n",
       "      <th>highway_mpg</th>\n",
       "      <th>price</th>\n",
       "    </tr>\n",
       "  </thead>\n",
       "  <tbody>\n",
       "    <tr>\n",
       "      <th>36</th>\n",
       "      <td>honda</td>\n",
       "      <td>gas</td>\n",
       "      <td>std</td>\n",
       "      <td>two</td>\n",
       "      <td>hatchback</td>\n",
       "      <td>fwd</td>\n",
       "      <td>front</td>\n",
       "      <td>96.5</td>\n",
       "      <td>167.5</td>\n",
       "      <td>65.2</td>\n",
       "      <td>...</td>\n",
       "      <td>110</td>\n",
       "      <td>1bbl</td>\n",
       "      <td>3.15</td>\n",
       "      <td>3.58</td>\n",
       "      <td>9.0</td>\n",
       "      <td>86</td>\n",
       "      <td>5800.0</td>\n",
       "      <td>NaN</td>\n",
       "      <td>33.0</td>\n",
       "      <td>7895</td>\n",
       "    </tr>\n",
       "  </tbody>\n",
       "</table>\n",
       "<p>1 rows × 24 columns</p>\n",
       "</div>"
      ],
      "text/plain": [
       "     make fuel_type aspiration number_of_doors body_style drive_wheels  \\\n",
       "36  honda       gas        std             two  hatchback          fwd   \n",
       "\n",
       "   engine_location  wheel_base  length  width  ...    engine_size  \\\n",
       "36           front        96.5   167.5   65.2  ...            110   \n",
       "\n",
       "    fuel_system  bore stroke  compression_ratio horsepower  peak_rpm  \\\n",
       "36         1bbl  3.15   3.58                9.0         86    5800.0   \n",
       "\n",
       "    city_mpg  highway_mpg  price  \n",
       "36       NaN         33.0   7895  \n",
       "\n",
       "[1 rows x 24 columns]"
      ]
     },
     "execution_count": 18,
     "metadata": {},
     "output_type": "execute_result"
    }
   ],
   "source": [
    "df_automobile[df_automobile[\"city_mpg\"].isnull()]"
   ]
  },
  {
   "cell_type": "code",
   "execution_count": 20,
   "metadata": {},
   "outputs": [
    {
     "data": {
      "text/html": [
       "<div>\n",
       "<style>\n",
       "    .dataframe thead tr:only-child th {\n",
       "        text-align: right;\n",
       "    }\n",
       "\n",
       "    .dataframe thead th {\n",
       "        text-align: left;\n",
       "    }\n",
       "\n",
       "    .dataframe tbody tr th {\n",
       "        vertical-align: top;\n",
       "    }\n",
       "</style>\n",
       "<table border=\"1\" class=\"dataframe\">\n",
       "  <thead>\n",
       "    <tr style=\"text-align: right;\">\n",
       "      <th></th>\n",
       "      <th>make</th>\n",
       "      <th>fuel_type</th>\n",
       "      <th>aspiration</th>\n",
       "      <th>number_of_doors</th>\n",
       "      <th>body_style</th>\n",
       "      <th>drive_wheels</th>\n",
       "      <th>engine_location</th>\n",
       "      <th>wheel_base</th>\n",
       "      <th>length</th>\n",
       "      <th>width</th>\n",
       "      <th>...</th>\n",
       "      <th>engine_size</th>\n",
       "      <th>fuel_system</th>\n",
       "      <th>bore</th>\n",
       "      <th>stroke</th>\n",
       "      <th>compression_ratio</th>\n",
       "      <th>horsepower</th>\n",
       "      <th>peak_rpm</th>\n",
       "      <th>city_mpg</th>\n",
       "      <th>highway_mpg</th>\n",
       "      <th>price</th>\n",
       "    </tr>\n",
       "  </thead>\n",
       "  <tbody>\n",
       "    <tr>\n",
       "      <th>32</th>\n",
       "      <td>honda</td>\n",
       "      <td>gas</td>\n",
       "      <td>std</td>\n",
       "      <td>two</td>\n",
       "      <td>hatchback</td>\n",
       "      <td>fwd</td>\n",
       "      <td>front</td>\n",
       "      <td>93.7</td>\n",
       "      <td>150.0</td>\n",
       "      <td>64.0</td>\n",
       "      <td>...</td>\n",
       "      <td>92</td>\n",
       "      <td>1bbl</td>\n",
       "      <td>2.91</td>\n",
       "      <td>3.41</td>\n",
       "      <td>9.2</td>\n",
       "      <td>76</td>\n",
       "      <td>0.0</td>\n",
       "      <td>30.0</td>\n",
       "      <td>NaN</td>\n",
       "      <td>6529</td>\n",
       "    </tr>\n",
       "  </tbody>\n",
       "</table>\n",
       "<p>1 rows × 24 columns</p>\n",
       "</div>"
      ],
      "text/plain": [
       "     make fuel_type aspiration number_of_doors body_style drive_wheels  \\\n",
       "32  honda       gas        std             two  hatchback          fwd   \n",
       "\n",
       "   engine_location  wheel_base  length  width  ...    engine_size  \\\n",
       "32           front        93.7   150.0   64.0  ...             92   \n",
       "\n",
       "    fuel_system  bore stroke  compression_ratio horsepower  peak_rpm  \\\n",
       "32         1bbl  2.91   3.41                9.2         76       0.0   \n",
       "\n",
       "    city_mpg  highway_mpg  price  \n",
       "32      30.0          NaN   6529  \n",
       "\n",
       "[1 rows x 24 columns]"
      ]
     },
     "execution_count": 20,
     "metadata": {},
     "output_type": "execute_result"
    }
   ],
   "source": [
    "df_automobile[df_automobile[\"highway_mpg\"].isnull()]"
   ]
  },
  {
   "cell_type": "code",
   "execution_count": 22,
   "metadata": {
    "collapsed": true
   },
   "outputs": [],
   "source": [
    "df_automobile[\"peak_rpm\"] = df_automobile[\"peak_rpm\"].replace(np.nan, 0)\n",
    "df_automobile[\"city_mpg\"] = df_automobile[\"city_mpg\"].replace(np.nan, 0)\n",
    "df_automobile[\"highway_mpg\"] = df_automobile[\"highway_mpg\"].replace(np.nan, 0)"
   ]
  },
  {
   "cell_type": "code",
   "execution_count": 24,
   "metadata": {},
   "outputs": [
    {
     "data": {
      "text/plain": [
       "make                   False\n",
       "fuel_type              False\n",
       "aspiration             False\n",
       "number_of_doors        False\n",
       "body_style             False\n",
       "drive_wheels           False\n",
       "engine_location        False\n",
       "wheel_base             False\n",
       "length                 False\n",
       "width                  False\n",
       "height                 False\n",
       "curb_weight            False\n",
       "engine_type            False\n",
       "number_of_cylinders    False\n",
       "engine_size            False\n",
       "fuel_system            False\n",
       "bore                   False\n",
       "stroke                 False\n",
       "compression_ratio      False\n",
       "horsepower             False\n",
       "peak_rpm               False\n",
       "city_mpg               False\n",
       "highway_mpg            False\n",
       "price                  False\n",
       "dtype: bool"
      ]
     },
     "execution_count": 24,
     "metadata": {},
     "output_type": "execute_result"
    }
   ],
   "source": [
    "df_automobile.isnull().any()"
   ]
  },
  {
   "cell_type": "code",
   "execution_count": 25,
   "metadata": {
    "collapsed": true
   },
   "outputs": [],
   "source": [
    "#IMPLEMENTAÇÃO\n",
    "\n",
    "# Incluir o tratamento dos dados nulos\n",
    "# alteração"
   ]
  },
  {
   "cell_type": "markdown",
   "metadata": {},
   "source": [
    "### Análise de valores com valores iguais a 0"
   ]
  },
  {
   "cell_type": "markdown",
   "metadata": {},
   "source": [
    "Analise se no conjunto de dados há valores iguais a 0 e verifique se faz parte do contexto. Caso não faça parte do contexto, utilize alguma técnica de imputação de dados apropriada.\n",
    "\n",
    "Inspecione o dataset por dados iguais a 0."
   ]
  },
  {
   "cell_type": "code",
   "execution_count": 26,
   "metadata": {},
   "outputs": [
    {
     "data": {
      "text/plain": [
       "make                   False\n",
       "fuel_type              False\n",
       "aspiration             False\n",
       "number_of_doors        False\n",
       "body_style             False\n",
       "drive_wheels           False\n",
       "engine_location        False\n",
       "wheel_base             False\n",
       "length                 False\n",
       "width                  False\n",
       "height                 False\n",
       "curb_weight            False\n",
       "engine_type            False\n",
       "number_of_cylinders    False\n",
       "engine_size            False\n",
       "fuel_system            False\n",
       "bore                   False\n",
       "stroke                 False\n",
       "compression_ratio      False\n",
       "horsepower             False\n",
       "peak_rpm                True\n",
       "city_mpg                True\n",
       "highway_mpg             True\n",
       "price                  False\n",
       "dtype: bool"
      ]
     },
     "execution_count": 26,
     "metadata": {},
     "output_type": "execute_result"
    }
   ],
   "source": [
    "#IMPLEMENTAÇÃO\n",
    "\n",
    "(df_automobile == 0).any()"
   ]
  },
  {
   "cell_type": "markdown",
   "metadata": {},
   "source": [
    "A imputação de dados pode seguir algum padrão dos demais exemplos ou pode ser simplesmente atribuído um valor. Avalie tais condições de acordo com as inspeções de dados."
   ]
  },
  {
   "cell_type": "code",
   "execution_count": 27,
   "metadata": {},
   "outputs": [
    {
     "data": {
      "text/html": [
       "<div>\n",
       "<style>\n",
       "    .dataframe thead tr:only-child th {\n",
       "        text-align: right;\n",
       "    }\n",
       "\n",
       "    .dataframe thead th {\n",
       "        text-align: left;\n",
       "    }\n",
       "\n",
       "    .dataframe tbody tr th {\n",
       "        vertical-align: top;\n",
       "    }\n",
       "</style>\n",
       "<table border=\"1\" class=\"dataframe\">\n",
       "  <thead>\n",
       "    <tr style=\"text-align: right;\">\n",
       "      <th></th>\n",
       "      <th>make</th>\n",
       "      <th>fuel_type</th>\n",
       "      <th>aspiration</th>\n",
       "      <th>number_of_doors</th>\n",
       "      <th>body_style</th>\n",
       "      <th>drive_wheels</th>\n",
       "      <th>engine_location</th>\n",
       "      <th>wheel_base</th>\n",
       "      <th>length</th>\n",
       "      <th>width</th>\n",
       "      <th>...</th>\n",
       "      <th>engine_size</th>\n",
       "      <th>fuel_system</th>\n",
       "      <th>bore</th>\n",
       "      <th>stroke</th>\n",
       "      <th>compression_ratio</th>\n",
       "      <th>horsepower</th>\n",
       "      <th>peak_rpm</th>\n",
       "      <th>city_mpg</th>\n",
       "      <th>highway_mpg</th>\n",
       "      <th>price</th>\n",
       "    </tr>\n",
       "  </thead>\n",
       "  <tbody>\n",
       "    <tr>\n",
       "      <th>136</th>\n",
       "      <td>subaru</td>\n",
       "      <td>gas</td>\n",
       "      <td>std</td>\n",
       "      <td>two</td>\n",
       "      <td>hatchback</td>\n",
       "      <td>4wd</td>\n",
       "      <td>front</td>\n",
       "      <td>0.004698</td>\n",
       "      <td>0.004492</td>\n",
       "      <td>0.004817</td>\n",
       "      <td>...</td>\n",
       "      <td>0.004235</td>\n",
       "      <td>2bbl</td>\n",
       "      <td>0.005409</td>\n",
       "      <td>0.004027</td>\n",
       "      <td>0.004258</td>\n",
       "      <td>0.003517</td>\n",
       "      <td>NaN</td>\n",
       "      <td>0.005216</td>\n",
       "      <td>0.005074</td>\n",
       "      <td>0.002864</td>\n",
       "    </tr>\n",
       "    <tr>\n",
       "      <th>184</th>\n",
       "      <td>volkswagen</td>\n",
       "      <td>gas</td>\n",
       "      <td>std</td>\n",
       "      <td>four</td>\n",
       "      <td>sedan</td>\n",
       "      <td>fwd</td>\n",
       "      <td>front</td>\n",
       "      <td>0.004900</td>\n",
       "      <td>0.004904</td>\n",
       "      <td>0.004946</td>\n",
       "      <td>...</td>\n",
       "      <td>0.004274</td>\n",
       "      <td>mpfi</td>\n",
       "      <td>0.004766</td>\n",
       "      <td>0.005186</td>\n",
       "      <td>0.004895</td>\n",
       "      <td>0.004818</td>\n",
       "      <td>NaN</td>\n",
       "      <td>0.005216</td>\n",
       "      <td>0.005238</td>\n",
       "      <td>0.003765</td>\n",
       "    </tr>\n",
       "  </tbody>\n",
       "</table>\n",
       "<p>2 rows × 24 columns</p>\n",
       "</div>"
      ],
      "text/plain": [
       "           make fuel_type aspiration number_of_doors body_style drive_wheels  \\\n",
       "136      subaru       gas        std             two  hatchback          4wd   \n",
       "184  volkswagen       gas        std            four      sedan          fwd   \n",
       "\n",
       "    engine_location  wheel_base    length     width    ...     engine_size  \\\n",
       "136           front    0.004698  0.004492  0.004817    ...        0.004235   \n",
       "184           front    0.004900  0.004904  0.004946    ...        0.004274   \n",
       "\n",
       "     fuel_system      bore    stroke  compression_ratio horsepower  peak_rpm  \\\n",
       "136         2bbl  0.005409  0.004027           0.004258   0.003517       NaN   \n",
       "184         mpfi  0.004766  0.005186           0.004895   0.004818       NaN   \n",
       "\n",
       "     city_mpg  highway_mpg     price  \n",
       "136  0.005216     0.005074  0.002864  \n",
       "184  0.005216     0.005238  0.003765  \n",
       "\n",
       "[2 rows x 24 columns]"
      ]
     },
     "execution_count": 27,
     "metadata": {},
     "output_type": "execute_result"
    }
   ],
   "source": [
    "df_automobile_norm[df_automobile_norm[\"peak_rpm\"].isnull()]"
   ]
  },
  {
   "cell_type": "code",
   "execution_count": 28,
   "metadata": {},
   "outputs": [
    {
     "data": {
      "text/html": [
       "<div>\n",
       "<style>\n",
       "    .dataframe thead tr:only-child th {\n",
       "        text-align: right;\n",
       "    }\n",
       "\n",
       "    .dataframe thead th {\n",
       "        text-align: left;\n",
       "    }\n",
       "\n",
       "    .dataframe tbody tr th {\n",
       "        vertical-align: top;\n",
       "    }\n",
       "</style>\n",
       "<table border=\"1\" class=\"dataframe\">\n",
       "  <thead>\n",
       "    <tr style=\"text-align: right;\">\n",
       "      <th></th>\n",
       "      <th>make</th>\n",
       "      <th>fuel_type</th>\n",
       "      <th>aspiration</th>\n",
       "      <th>number_of_doors</th>\n",
       "      <th>body_style</th>\n",
       "      <th>drive_wheels</th>\n",
       "      <th>engine_location</th>\n",
       "      <th>wheel_base</th>\n",
       "      <th>length</th>\n",
       "      <th>width</th>\n",
       "      <th>...</th>\n",
       "      <th>engine_size</th>\n",
       "      <th>fuel_system</th>\n",
       "      <th>bore</th>\n",
       "      <th>stroke</th>\n",
       "      <th>compression_ratio</th>\n",
       "      <th>horsepower</th>\n",
       "      <th>peak_rpm</th>\n",
       "      <th>city_mpg</th>\n",
       "      <th>highway_mpg</th>\n",
       "      <th>price</th>\n",
       "    </tr>\n",
       "  </thead>\n",
       "  <tbody>\n",
       "    <tr>\n",
       "      <th>36</th>\n",
       "      <td>honda</td>\n",
       "      <td>gas</td>\n",
       "      <td>std</td>\n",
       "      <td>two</td>\n",
       "      <td>hatchback</td>\n",
       "      <td>fwd</td>\n",
       "      <td>front</td>\n",
       "      <td>0.004859</td>\n",
       "      <td>0.004784</td>\n",
       "      <td>0.004923</td>\n",
       "      <td>...</td>\n",
       "      <td>0.004313</td>\n",
       "      <td>1bbl</td>\n",
       "      <td>0.004707</td>\n",
       "      <td>0.005461</td>\n",
       "      <td>0.004405</td>\n",
       "      <td>0.004143</td>\n",
       "      <td>0.005757</td>\n",
       "      <td>NaN</td>\n",
       "      <td>0.005402</td>\n",
       "      <td>0.002974</td>\n",
       "    </tr>\n",
       "  </tbody>\n",
       "</table>\n",
       "<p>1 rows × 24 columns</p>\n",
       "</div>"
      ],
      "text/plain": [
       "     make fuel_type aspiration number_of_doors body_style drive_wheels  \\\n",
       "36  honda       gas        std             two  hatchback          fwd   \n",
       "\n",
       "   engine_location  wheel_base    length     width    ...     engine_size  \\\n",
       "36           front    0.004859  0.004784  0.004923    ...        0.004313   \n",
       "\n",
       "    fuel_system      bore    stroke  compression_ratio horsepower  peak_rpm  \\\n",
       "36         1bbl  0.004707  0.005461           0.004405   0.004143  0.005757   \n",
       "\n",
       "    city_mpg  highway_mpg     price  \n",
       "36       NaN     0.005402  0.002974  \n",
       "\n",
       "[1 rows x 24 columns]"
      ]
     },
     "execution_count": 28,
     "metadata": {},
     "output_type": "execute_result"
    }
   ],
   "source": [
    "df_automobile_norm[df_automobile_norm[\"city_mpg\"].isnull()]"
   ]
  },
  {
   "cell_type": "code",
   "execution_count": 30,
   "metadata": {},
   "outputs": [
    {
     "data": {
      "text/html": [
       "<div>\n",
       "<style>\n",
       "    .dataframe thead tr:only-child th {\n",
       "        text-align: right;\n",
       "    }\n",
       "\n",
       "    .dataframe thead th {\n",
       "        text-align: left;\n",
       "    }\n",
       "\n",
       "    .dataframe tbody tr th {\n",
       "        vertical-align: top;\n",
       "    }\n",
       "</style>\n",
       "<table border=\"1\" class=\"dataframe\">\n",
       "  <thead>\n",
       "    <tr style=\"text-align: right;\">\n",
       "      <th></th>\n",
       "      <th>make</th>\n",
       "      <th>fuel_type</th>\n",
       "      <th>aspiration</th>\n",
       "      <th>number_of_doors</th>\n",
       "      <th>body_style</th>\n",
       "      <th>drive_wheels</th>\n",
       "      <th>engine_location</th>\n",
       "      <th>wheel_base</th>\n",
       "      <th>length</th>\n",
       "      <th>width</th>\n",
       "      <th>...</th>\n",
       "      <th>engine_size</th>\n",
       "      <th>fuel_system</th>\n",
       "      <th>bore</th>\n",
       "      <th>stroke</th>\n",
       "      <th>compression_ratio</th>\n",
       "      <th>horsepower</th>\n",
       "      <th>peak_rpm</th>\n",
       "      <th>city_mpg</th>\n",
       "      <th>highway_mpg</th>\n",
       "      <th>price</th>\n",
       "    </tr>\n",
       "  </thead>\n",
       "  <tbody>\n",
       "    <tr>\n",
       "      <th>32</th>\n",
       "      <td>honda</td>\n",
       "      <td>gas</td>\n",
       "      <td>std</td>\n",
       "      <td>two</td>\n",
       "      <td>hatchback</td>\n",
       "      <td>fwd</td>\n",
       "      <td>front</td>\n",
       "      <td>0.004718</td>\n",
       "      <td>0.004284</td>\n",
       "      <td>0.004832</td>\n",
       "      <td>...</td>\n",
       "      <td>0.003608</td>\n",
       "      <td>1bbl</td>\n",
       "      <td>0.004348</td>\n",
       "      <td>0.005201</td>\n",
       "      <td>0.004503</td>\n",
       "      <td>0.003662</td>\n",
       "      <td>0.0</td>\n",
       "      <td>0.006018</td>\n",
       "      <td>NaN</td>\n",
       "      <td>0.002459</td>\n",
       "    </tr>\n",
       "  </tbody>\n",
       "</table>\n",
       "<p>1 rows × 24 columns</p>\n",
       "</div>"
      ],
      "text/plain": [
       "     make fuel_type aspiration number_of_doors body_style drive_wheels  \\\n",
       "32  honda       gas        std             two  hatchback          fwd   \n",
       "\n",
       "   engine_location  wheel_base    length     width    ...     engine_size  \\\n",
       "32           front    0.004718  0.004284  0.004832    ...        0.003608   \n",
       "\n",
       "    fuel_system      bore    stroke  compression_ratio horsepower  peak_rpm  \\\n",
       "32         1bbl  0.004348  0.005201           0.004503   0.003662       0.0   \n",
       "\n",
       "    city_mpg  highway_mpg     price  \n",
       "32  0.006018          NaN  0.002459  \n",
       "\n",
       "[1 rows x 24 columns]"
      ]
     },
     "execution_count": 30,
     "metadata": {},
     "output_type": "execute_result"
    }
   ],
   "source": [
    "df_automobile_norm[df_automobile_norm[\"highway_mpg\"].isnull()]"
   ]
  },
  {
   "cell_type": "code",
   "execution_count": 31,
   "metadata": {
    "collapsed": true
   },
   "outputs": [],
   "source": [
    "#IMPLEMENTAÇÃO\n",
    "\n"
   ]
  },
  {
   "cell_type": "markdown",
   "metadata": {},
   "source": [
    "### Análise Numérica de Outliers"
   ]
  },
  {
   "cell_type": "markdown",
   "metadata": {},
   "source": [
    "Da análise visual de outliers realizada acima vamos utilizar uma métrica de verificação mais apropriada e objetiva afim de criar um patamar aceitável de dados não discrepantes.\n",
    "\n",
    "Neste projeto vamos considerar [o Método Turco para identificar discrepantes](http://datapigtechnologies.com/blog/index.php/highlighting-outliers-in-your-data-with-the-tukey-method/), que utiliza um __passo de limite__ que é 5 vezes (em nosso projeto) a diferença entre o terceiro (Q3) e o primeiro quartil (Q1). Deste modo, valores que sejam maiores que o Q3 + passo de limite ou menor Q2 - passo de limite sejam sinalizados como outliers.\n",
    "\n",
    "Construa uma função que receba como parâmetro de entrada um série de dados e exiba os valores discrepantes. Utilize o boilerplate abaixo para completar as instruções faltantes.\n",
    "\n",
    "*Dica: utilize a função do Numpy de percentil, np.percentile(serie, 25) para quartil 1 e np.percentile(serie, 75) para quartil 3.*"
   ]
  },
  {
   "cell_type": "code",
   "execution_count": null,
   "metadata": {
    "collapsed": true
   },
   "outputs": [],
   "source": [
    "def identificacao_outlier(df, column_name): \n",
    "    print(column_name)\n",
    "    \n",
    "    #IMPLEMENTAÇÃO\n",
    "    \n",
    "    print(outlier_upper + outlier_lower)"
   ]
  },
  {
   "cell_type": "markdown",
   "metadata": {},
   "source": [
    "**Pergunta:** Houve dados discrepantes localizados pela metodologia sugerida? Quais foram os atributos discretpantes e quais as hipótese de serem discrepantes? Qual foi a sua conclusão, são realmente dados que devem ser removidos ou mantidos? Justifique.\n",
    "\n",
    "**Resposta:**\n"
   ]
  },
  {
   "cell_type": "markdown",
   "metadata": {},
   "source": [
    "### Mapeamento de Dados Paramétricos"
   ]
  },
  {
   "cell_type": "markdown",
   "metadata": {},
   "source": [
    "Os algoritmos de aprendizado de máquina precisam receber dados que sejam inteiramente numéricos. Dados que representam uma classificação como por exemplo um tipo de carro, como sedan ou hatchback, deve ser convertido em um valor numérico associado, como por exemplo 1 ou 2.\n",
    "\n",
    "Crie uma função que receba uma lista única e retorne um dicionário com a categoria e um código numérico crescente e incremental para posteriormente utilizarmos como mapeamento."
   ]
  },
  {
   "cell_type": "code",
   "execution_count": null,
   "metadata": {
    "collapsed": true
   },
   "outputs": [],
   "source": [
    "#IMPLEMENTAÇÃO\n",
    "\n",
    "def mapear_serie(serie):\n",
    "    dict_gen = {}\n",
    "    \n",
    "    #IMPLEMENTAÇÃO\n",
    "        \n",
    "    return dict_gen"
   ]
  },
  {
   "cell_type": "markdown",
   "metadata": {},
   "source": [
    "Com a funcão criada, crie dicionários para cada coluna paramétrica. Lembre-se que é necessário passar somente valores únicos.\n",
    "\n",
    "*Dica: utilize a função unique() do dataframe para obter valores únicos de uma determinada série (ou coluna).*"
   ]
  },
  {
   "cell_type": "code",
   "execution_count": null,
   "metadata": {
    "collapsed": true
   },
   "outputs": [],
   "source": [
    "# IMPLEMENTAÇÃO \n",
    "\n"
   ]
  },
  {
   "cell_type": "markdown",
   "metadata": {},
   "source": [
    "Até este momento seu conjunto de dados não deve conter nenhum dado paramétrico. Todos os dados armazenados com valores como texto, por exemplo, \"diese\", \"gas\" deve estar preenchido com valores numéricos, como 1 ou 2.\n",
    "\n",
    "Inspecione seus dados e certifique de que tudo está certo.\n",
    "\n",
    "*Dica: utilize uma inspeção simples visual, com 20 amostras.*"
   ]
  },
  {
   "cell_type": "code",
   "execution_count": null,
   "metadata": {
    "collapsed": true
   },
   "outputs": [],
   "source": [
    "#IMPLEMENTAÇÃO\n",
    "\n"
   ]
  },
  {
   "cell_type": "markdown",
   "metadata": {},
   "source": [
    "## Desenvolvimento do Modelo"
   ]
  },
  {
   "cell_type": "markdown",
   "metadata": {},
   "source": [
    "O conjunto de dados que temos a nossa disposição indica a aplicação de um modelo voltado a regressão, ou seja, queremos prever um preço de um veículo dada certas condições. É um problema típico de predição de série numérica.\n",
    "\n",
    "Podemos aplicar quaisquer algoritmos de regressão existente que tenha aplicação de classificação, pois é de um domínio diferente.\n",
    "\n",
    "Iremos explorar 3 modelos de algoritmos de regressão para testar a performance de cada um deles. Ao final será eleito o que apresentar melhor performance de pontuação R2.\n",
    "\n",
    "Os algoritmos são:\n",
    "\n",
    "1. [Regressão Linear](http://scikit-learn.org/stable/auto_examples/linear_model/plot_ols.html)\n",
    "2. [Regressão de Árvore de Decisão](http://scikit-learn.org/stable/modules/generated/sklearn.tree.DecisionTreeRegressor.html)\n",
    "3. [Regressão Ridge](http://scikit-learn.org/stable/modules/linear_model.html#ridge-regression)"
   ]
  },
  {
   "cell_type": "markdown",
   "metadata": {},
   "source": [
    "**Pergunta:** Explique como cada modelo de regressão funciona, indicando pelo menos um caso de uso em cada um deles.\n",
    "\n",
    "**Resposta:**"
   ]
  },
  {
   "cell_type": "markdown",
   "metadata": {
    "collapsed": true
   },
   "source": [
    "Antes de partimos para o treinamento do modelo, precisaremos separar os dados em subconjuntos para permitir avaliar adequadamente o modelo.\n",
    "\n",
    "Uma boa razão de tamanho de conjunto de treinamento e testes é 80% e 20% ou ainda, 70% e 30%. O importante é não misturar dados de treinamento com os de teste para termos uma ideia melhor sobre a performance do modelo com dados previametne não treinados.\n",
    "\n",
    "Antes de separarmos os dados, a partir das análises realizadas anteriormente, quais seriam os atributos a serem utilizados e por qual motivo. Informe também qual seria o atributo preditor?"
   ]
  },
  {
   "cell_type": "code",
   "execution_count": null,
   "metadata": {
    "collapsed": true
   },
   "outputs": [],
   "source": [
    "#IMPLEMENTAÇÃO\n",
    "\n"
   ]
  },
  {
   "cell_type": "markdown",
   "metadata": {},
   "source": [
    "Crie subsets de treinamento e teste utilizado uma razão adequada de tamanho.\n",
    "Utilze o ```train_test_split``` passando como parâmetros"
   ]
  },
  {
   "cell_type": "code",
   "execution_count": null,
   "metadata": {
    "collapsed": true
   },
   "outputs": [],
   "source": [
    "from sklearn.model_selection import train_test_split\n",
    "\n",
    "#IMPLEMENTAÇÃO\n",
    "\n"
   ]
  },
  {
   "cell_type": "markdown",
   "metadata": {},
   "source": [
    "Inspecione cada subconjunto de dados obtidos do ```train_test_split```. Note que nos conjuntos X devemos ter atributos, logo é esperado uma matriz com mais de uma coluna. Nos conjuntos y, é a classe de predição, logo é esperado apenas um atributo."
   ]
  },
  {
   "cell_type": "code",
   "execution_count": null,
   "metadata": {
    "collapsed": true
   },
   "outputs": [],
   "source": [
    "#IMPLEMENTAÇÃO\n",
    "#Inspeção de X_train\n",
    "\n"
   ]
  },
  {
   "cell_type": "code",
   "execution_count": null,
   "metadata": {
    "collapsed": true
   },
   "outputs": [],
   "source": [
    "#IMPLEMENTAÇÃO\n",
    "#Inspeção de Y_train\n",
    "\n"
   ]
  },
  {
   "cell_type": "markdown",
   "metadata": {},
   "source": [
    "Verifique também se a razão dos conjuntos está coerente com a divisão estabelecida. Para estes cálculos divia o número de itens do conjunto de treino pelo total e também o de testes pelo total."
   ]
  },
  {
   "cell_type": "code",
   "execution_count": null,
   "metadata": {
    "collapsed": true
   },
   "outputs": [],
   "source": [
    "#IMPLEMENTAÇÃO\n",
    "\n"
   ]
  },
  {
   "cell_type": "markdown",
   "metadata": {},
   "source": [
    "## Treinamento e teste do modelo\n",
    "\n",
    "Após separarmos os dados adequadamente, selecionar os atributos que irão compor como o modelo deve treinar e qual atributo deve perseguir, o próximo passo é treinar este modelo e verificar, pelos testes, sua performance.\n",
    "\n",
    "Este estudo também irá levar a escolhermos qual algoritmo devemos utilizar dentre os três selecionados neste ajuste.\n",
    "\n",
    "Para avaliarmos a performance dos modelos, vamos criar uma função que determinará a pontuação R2.\n",
    "\n",
    "Não esqueça de avaliar os conjuntos de dados de treino (```X_train```, ```y_train``` e de teste, ```X_test``` e ```y_test```)"
   ]
  },
  {
   "cell_type": "code",
   "execution_count": null,
   "metadata": {
    "collapsed": true
   },
   "outputs": [],
   "source": [
    "from sklearn.metrics import mean_squared_error, r2_score\n",
    "\n",
    "def pontuacao(modelo, X_test, y_test):\n",
    "    y_pred = modelo.predict(X_test)\n",
    "    print(\"%s R2 score: %.2f\" %(modelo,r2_score(y_test, y_pred)))"
   ]
  },
  {
   "cell_type": "markdown",
   "metadata": {},
   "source": [
    "### Regressão Linear\n",
    "\n",
    "Utilize para a variável preditora a função ```.ravel()``` para converter os dados no formato que o ```sklearn``` espera."
   ]
  },
  {
   "cell_type": "code",
   "execution_count": null,
   "metadata": {
    "collapsed": true
   },
   "outputs": [],
   "source": [
    "from sklearn import linear_model\n",
    "\n",
    "lr_model = linear_model.LinearRegression()\n",
    "\n",
    "#IMPLEMENTAÇÃO\n",
    "\n"
   ]
  },
  {
   "cell_type": "markdown",
   "metadata": {},
   "source": [
    "Obténha a pontuação R2, utilizando a função ```pontuacao``` para os conjuntos de treino e de teste."
   ]
  },
  {
   "cell_type": "code",
   "execution_count": null,
   "metadata": {
    "collapsed": true
   },
   "outputs": [],
   "source": [
    "#IMPLEMENTAÇÃO\n",
    "\n"
   ]
  },
  {
   "cell_type": "markdown",
   "metadata": {},
   "source": [
    "### Regressão de árvore de Decisão"
   ]
  },
  {
   "cell_type": "code",
   "execution_count": null,
   "metadata": {
    "collapsed": true
   },
   "outputs": [],
   "source": [
    "from sklearn import tree\n",
    "\n",
    "dtr_model = tree.DecisionTreeRegressor()\n",
    "\n",
    "#IMPLEMENTAÇÃO\n",
    "\n"
   ]
  },
  {
   "cell_type": "markdown",
   "metadata": {},
   "source": [
    "Obténha a pontuação R2, utilizando a função ```pontuacao``` para os conjuntos de treino e de teste."
   ]
  },
  {
   "cell_type": "code",
   "execution_count": null,
   "metadata": {
    "collapsed": true
   },
   "outputs": [],
   "source": [
    "#IMPLEMENTAÇÃO\n",
    "\n"
   ]
  },
  {
   "cell_type": "markdown",
   "metadata": {},
   "source": [
    "### Regressão Ridge"
   ]
  },
  {
   "cell_type": "code",
   "execution_count": null,
   "metadata": {
    "collapsed": true
   },
   "outputs": [],
   "source": [
    "lrr_model = linear_model.Ridge()\n",
    "\n",
    "#IMPLEMENTAÇÃO\n",
    "\n"
   ]
  },
  {
   "cell_type": "markdown",
   "metadata": {},
   "source": [
    "Obténha a pontuação R2, utilizando a função ```pontuacao``` para os conjuntos de treino e de teste."
   ]
  },
  {
   "cell_type": "code",
   "execution_count": null,
   "metadata": {
    "collapsed": true
   },
   "outputs": [],
   "source": [
    "#IMPLEMENTAÇÃO\n",
    "\n"
   ]
  },
  {
   "cell_type": "markdown",
   "metadata": {},
   "source": [
    "**Pergunta:** Nesta análise preliminar, como foi a performance de cada algoritmo? Explique os resultados e detalhe como a característica de cada algoritmo influenciou no resultado.\n",
    "\n",
    "**Resposta:**"
   ]
  },
  {
   "cell_type": "markdown",
   "metadata": {},
   "source": [
    "## Validação e Otimização do Modelo\n",
    "\n",
    "Cada algoritmo de modelo pode oferecer a possibilidade de ajustes de seus parâmetros. Tais ajustes podem contribuir para melhorar ou piorar o modelo, portanto esta fase de otimização e validação é importante entender o patamar de partida, com os valores padrões obtidos nos passos anteriores versus as otimizações.\n",
    "\n",
    "É comum que as otimizações não sejam capazes de alterar os patamares padrão.\n",
    "\n",
    "O Scikit Learn oferece uma forma simplificada de testar diversas condições de parâmetros diferentes por meio do ```GridSearchCV```. Após diversos testes é apresentado os parâmetros que obtiveram os melhores resultados."
   ]
  },
  {
   "cell_type": "markdown",
   "metadata": {},
   "source": [
    "### Regulação dos parâmetros dos modelos\n",
    "\n",
    "Analise os parâmetros possíveis de cada algortimo de regressão e crie um dicionário para ser utilizado no ```GridSearchCV```.\n",
    "O dicionário é composto pelo nome do parâmetro como chave. Seu valor será uma lista de valores que se deseja otimizar. Não deixe de revisar a [documentação](http://scikit-learn.org/stable/modules/generated/sklearn.model_selection.GridSearchCV.html)\n",
    "\n",
    "Verfique a pontuação R2 para os conjuntos de dados de treino e de teste, pois nem sempre preditores que se saem bem durante o treinamento terão a mesma performance com os dados de teste."
   ]
  },
  {
   "cell_type": "markdown",
   "metadata": {},
   "source": [
    "### Regulação do Modelo de Regressão Linear\n",
    "\n",
    "Escolha quais atributos incluir na variável ```parameters```para serem otimizados. Essa variável é um dicionário onde cada chave representa uma configuração do modelo, o valor pode ser único ou uma lista, neste caso utilize ```[]``` para incluir múltiplos valores. Como nosso problema é relacionado a regressão, utilize a pontuação R2 em ```scoring``` na configuração do ```GridSearchCV```. "
   ]
  },
  {
   "cell_type": "code",
   "execution_count": null,
   "metadata": {
    "collapsed": true
   },
   "outputs": [],
   "source": [
    "from sklearn.model_selection import GridSearchCV\n",
    "        \n",
    "parameters = {}\n",
    "opt_model_lr = GridSearchCV(lr_model, parameters, scoring='r2')\n",
    "opt_model_lr.fit(X_train, y_train.ravel())"
   ]
  },
  {
   "cell_type": "markdown",
   "metadata": {},
   "source": [
    "Calcule as pontuações para o melhor estimador com dados de treino."
   ]
  },
  {
   "cell_type": "code",
   "execution_count": null,
   "metadata": {
    "collapsed": true
   },
   "outputs": [],
   "source": [
    "opt_model_lr.score(X_train, y_train.ravel()), opt_model_lr.best_estimator_"
   ]
  },
  {
   "cell_type": "markdown",
   "metadata": {},
   "source": [
    "E também para os dados de testes."
   ]
  },
  {
   "cell_type": "code",
   "execution_count": null,
   "metadata": {
    "collapsed": true
   },
   "outputs": [],
   "source": [
    "opt_model_lr.score(X_test, y_test.ravel()), opt_model_lr.best_estimator_"
   ]
  },
  {
   "cell_type": "markdown",
   "metadata": {},
   "source": [
    "### Regulação do Modelo de Regressão de Árvore de Decisão"
   ]
  },
  {
   "cell_type": "code",
   "execution_count": null,
   "metadata": {
    "collapsed": true
   },
   "outputs": [],
   "source": [
    "parameters = {}\n",
    "opt_model_dtr = GridSearchCV(dtr_model, parameters, scoring='r2')\n",
    "opt_model_dtr.fit(X_train, y_train.ravel())"
   ]
  },
  {
   "cell_type": "markdown",
   "metadata": {},
   "source": [
    "Pontuação dos dados de treino."
   ]
  },
  {
   "cell_type": "code",
   "execution_count": null,
   "metadata": {
    "collapsed": true
   },
   "outputs": [],
   "source": [
    "#IMPLEMENTAÇÃO\n",
    "\n"
   ]
  },
  {
   "cell_type": "markdown",
   "metadata": {},
   "source": [
    "Pontuação dos dados de teste."
   ]
  },
  {
   "cell_type": "code",
   "execution_count": null,
   "metadata": {
    "collapsed": true
   },
   "outputs": [],
   "source": [
    "# IMPLEMENTAÇÃO\n",
    "\n"
   ]
  },
  {
   "cell_type": "markdown",
   "metadata": {},
   "source": [
    "### Regulação do Modelo de Regressão Ridge"
   ]
  },
  {
   "cell_type": "code",
   "execution_count": null,
   "metadata": {
    "collapsed": true
   },
   "outputs": [],
   "source": [
    "parameters = {}\n",
    "\n",
    "opt_model_lrr = GridSearchCV(lrr_model, parameters, scoring='r2')\n",
    "opt_model_lrr.fit(X_train, y_train.ravel())"
   ]
  },
  {
   "cell_type": "markdown",
   "metadata": {},
   "source": [
    "Pontuação dos dados de treino."
   ]
  },
  {
   "cell_type": "code",
   "execution_count": null,
   "metadata": {
    "collapsed": true
   },
   "outputs": [],
   "source": [
    "#IMPLEMENTAÇÃO\n",
    "\n"
   ]
  },
  {
   "cell_type": "markdown",
   "metadata": {},
   "source": [
    "Pontuação dos dados de teste."
   ]
  },
  {
   "cell_type": "code",
   "execution_count": null,
   "metadata": {
    "collapsed": true
   },
   "outputs": [],
   "source": [
    "#IMPLEMENTAÇÃO\n",
    "\n"
   ]
  },
  {
   "cell_type": "markdown",
   "metadata": {},
   "source": [
    "Sumarize na tabela abaixo os indicadores para cada um dos preditores e suas respectivas pontuações para os conjuntos de dados de treino e de testes"
   ]
  },
  {
   "cell_type": "markdown",
   "metadata": {},
   "source": [
    "|                     | Regressão linear | Regressão árvore de decisão | Regressão ridge |\n",
    "|:---------------------|:------------------:|:-----------------------------:|:-----------------:|\n",
    "| R2 treino |      X           |      X                       |   X              |\n",
    "| R2 teste  |      X            |      X                       |   X              |\n"
   ]
  },
  {
   "cell_type": "markdown",
   "metadata": {},
   "source": [
    "**Pergunta:** Qual dos algoritmos de regressão obteve os melhores resultados? Quais caracaterísticas deste algoritmo podem ajudar a justificar tal resultado?\n",
    "\n",
    "**Resposta:**"
   ]
  },
  {
   "cell_type": "markdown",
   "metadata": {},
   "source": [
    "### Implementação do algoritmo otimizado\n",
    "\n",
    "Configure o classificador selecionado com os parâmetros otimizados obtidos anteriormente."
   ]
  },
  {
   "cell_type": "code",
   "execution_count": null,
   "metadata": {
    "collapsed": true
   },
   "outputs": [],
   "source": [
    "#IMPLEMENTAÇÃO\n",
    "\n"
   ]
  },
  {
   "cell_type": "markdown",
   "metadata": {},
   "source": [
    "### Teste com exemplos\n",
    "\n",
    "Utilize 3 exemplos criados por você mesmo para obter um valor de venda de veículo. Escolha caracaterísticas que demonstrem como o regressor deveria se comportar. Para tanto, imagine exemplos dos quais você espera um valor baixo, mediano e alto do preço do veículo baseado nos atributos escolhidos"
   ]
  },
  {
   "cell_type": "code",
   "execution_count": null,
   "metadata": {
    "collapsed": true
   },
   "outputs": [],
   "source": [
    "#Lembre-se que os atributos são os armazenados na lista feature_col_names\n",
    "\n",
    "feature_col_names"
   ]
  },
  {
   "cell_type": "code",
   "execution_count": null,
   "metadata": {
    "collapsed": true
   },
   "outputs": [],
   "source": [
    "#IMPLEMENTAÇÃO\n",
    "#A entrada de dados deve ser uma matriz do seguinte formato, note que há dois colchetes pois é uma \n",
    "#matriz dentro de outra matriz [[a,b,c,d,e]]\n",
    "\n",
    "test_example_1 = [[]]\n",
    "test_example_2 = [[]]\n",
    "test_example_3 = [[]]\n"
   ]
  },
  {
   "cell_type": "markdown",
   "metadata": {},
   "source": [
    "Caso eu classificador esteja com comportamento muito enviesado (_overfitting_) reveja a escolha dos atributos selecionados e repita a otimização até que os valores de predição deste exemplo estejam coerentes."
   ]
  },
  {
   "cell_type": "markdown",
   "metadata": {},
   "source": [
    "## Conclusões finais\n",
    "\n",
    "Este projeto apresentou de forma simplifcada o __Worflow de Machine Learning__ que pode servir como base para estudos relacionados a classificação ou predição de séries numéricas.\n",
    "\n",
    "A fase de preparação, evidenciada no projeto, é uma das mais importantes da qual se precisa investir um bom tempo para dar os dados organizados e confiáveis, pois é a forma como os classificadores irão aprender com os exemplos e tentarão desvencilhar de efeitos indesejáveis como os vieses.\n",
    "\n",
    "Regressores são um tipo de algoritmo de machine learning que pode ser aplicado em diversas áreas das quais é necessário predizer um número baseado em um conjunto de dados numéricos ou série numérica, logo sua aplicação é bem ampla."
   ]
  },
  {
   "cell_type": "markdown",
   "metadata": {},
   "source": [
    "**Pergunta:** Seu modelo conseguiu prever adequadamente novos dados a partir do treinamento dos dados de teste? O que você faria diferente?\n",
    "\n",
    "**Resposta:**"
   ]
  },
  {
   "cell_type": "markdown",
   "metadata": {},
   "source": [
    "**Pergunta:**: Em que outras áreas você poderia aplicar estes tipos de algoritmos de regressão de aprendizado de máquina? Exemplifique para todos os algoritmos apresentados neste estudo.\n",
    "\n",
    "**Resposta**:"
   ]
  },
  {
   "cell_type": "code",
   "execution_count": null,
   "metadata": {
    "collapsed": true
   },
   "outputs": [],
   "source": []
  },
  {
   "cell_type": "code",
   "execution_count": null,
   "metadata": {
    "collapsed": true
   },
   "outputs": [],
   "source": []
  },
  {
   "cell_type": "code",
   "execution_count": null,
   "metadata": {
    "collapsed": true
   },
   "outputs": [],
   "source": []
  },
  {
   "cell_type": "code",
   "execution_count": null,
   "metadata": {
    "collapsed": true
   },
   "outputs": [],
   "source": []
  }
 ],
 "metadata": {
  "kernelspec": {
   "display_name": "Python 3",
   "language": "python",
   "name": "python3"
  },
  "language_info": {
   "codemirror_mode": {
    "name": "ipython",
    "version": 3
   },
   "file_extension": ".py",
   "mimetype": "text/x-python",
   "name": "python",
   "nbconvert_exporter": "python",
   "pygments_lexer": "ipython3",
   "version": "3.6.1"
  }
 },
 "nbformat": 4,
 "nbformat_minor": 2
}
